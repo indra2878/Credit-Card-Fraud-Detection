{
 "cells": [
  {
   "cell_type": "code",
   "execution_count": 1,
   "id": "6356881c",
   "metadata": {},
   "outputs": [],
   "source": [
    "import pandas as pd\n",
    "import numpy as np\n",
    "import seaborn as sns\n",
    "import matplotlib.pyplot as plt\n",
    "import sklearn\n",
    "import scipy\n",
    "from sklearn.model_selection import train_test_split\n",
    "from sklearn.preprocessing import LabelEncoder\n",
    "from sklearn.datasets import make_classification\n",
    "from sklearn.dummy import DummyClassifier\n",
    "from sklearn.svm import SVC\n",
    "from sklearn.ensemble import RandomForestClassifier\n",
    "from sklearn.linear_model import LogisticRegression\n",
    "from sklearn.model_selection import GridSearchCV\n",
    "from sklearn.tree import DecisionTreeClassifier\n",
    "from sklearn.metrics import roc_auc_score, accuracy_score, confusion_matrix, classification_report\n",
    "from imblearn.under_sampling import RandomUnderSampler\n",
    "from imblearn.over_sampling import RandomOverSampler"
   ]
  },
  {
   "cell_type": "code",
   "execution_count": 2,
   "id": "aa8112ef",
   "metadata": {
    "scrolled": true
   },
   "outputs": [
    {
     "data": {
      "text/html": [
       "<div>\n",
       "<style scoped>\n",
       "    .dataframe tbody tr th:only-of-type {\n",
       "        vertical-align: middle;\n",
       "    }\n",
       "\n",
       "    .dataframe tbody tr th {\n",
       "        vertical-align: top;\n",
       "    }\n",
       "\n",
       "    .dataframe thead th {\n",
       "        text-align: right;\n",
       "    }\n",
       "</style>\n",
       "<table border=\"1\" class=\"dataframe\">\n",
       "  <thead>\n",
       "    <tr style=\"text-align: right;\">\n",
       "      <th></th>\n",
       "      <th>distance_from_home</th>\n",
       "      <th>distance_from_last_transaction</th>\n",
       "      <th>ratio_to_median_purchase_price</th>\n",
       "      <th>repeat_retailer</th>\n",
       "      <th>used_chip</th>\n",
       "      <th>used_pin_number</th>\n",
       "      <th>online_order</th>\n",
       "      <th>fraud</th>\n",
       "    </tr>\n",
       "  </thead>\n",
       "  <tbody>\n",
       "    <tr>\n",
       "      <th>0</th>\n",
       "      <td>57.877857</td>\n",
       "      <td>0.311140</td>\n",
       "      <td>1.945940</td>\n",
       "      <td>1.0</td>\n",
       "      <td>1.0</td>\n",
       "      <td>0.0</td>\n",
       "      <td>0.0</td>\n",
       "      <td>0.0</td>\n",
       "    </tr>\n",
       "    <tr>\n",
       "      <th>1</th>\n",
       "      <td>10.829943</td>\n",
       "      <td>0.175592</td>\n",
       "      <td>1.294219</td>\n",
       "      <td>1.0</td>\n",
       "      <td>0.0</td>\n",
       "      <td>0.0</td>\n",
       "      <td>0.0</td>\n",
       "      <td>0.0</td>\n",
       "    </tr>\n",
       "    <tr>\n",
       "      <th>2</th>\n",
       "      <td>5.091079</td>\n",
       "      <td>0.805153</td>\n",
       "      <td>0.427715</td>\n",
       "      <td>1.0</td>\n",
       "      <td>0.0</td>\n",
       "      <td>0.0</td>\n",
       "      <td>1.0</td>\n",
       "      <td>0.0</td>\n",
       "    </tr>\n",
       "    <tr>\n",
       "      <th>3</th>\n",
       "      <td>2.247564</td>\n",
       "      <td>5.600044</td>\n",
       "      <td>0.362663</td>\n",
       "      <td>1.0</td>\n",
       "      <td>1.0</td>\n",
       "      <td>0.0</td>\n",
       "      <td>1.0</td>\n",
       "      <td>0.0</td>\n",
       "    </tr>\n",
       "    <tr>\n",
       "      <th>4</th>\n",
       "      <td>44.190936</td>\n",
       "      <td>0.566486</td>\n",
       "      <td>2.222767</td>\n",
       "      <td>1.0</td>\n",
       "      <td>1.0</td>\n",
       "      <td>0.0</td>\n",
       "      <td>1.0</td>\n",
       "      <td>0.0</td>\n",
       "    </tr>\n",
       "  </tbody>\n",
       "</table>\n",
       "</div>"
      ],
      "text/plain": [
       "   distance_from_home  distance_from_last_transaction  \\\n",
       "0           57.877857                        0.311140   \n",
       "1           10.829943                        0.175592   \n",
       "2            5.091079                        0.805153   \n",
       "3            2.247564                        5.600044   \n",
       "4           44.190936                        0.566486   \n",
       "\n",
       "   ratio_to_median_purchase_price  repeat_retailer  used_chip  \\\n",
       "0                        1.945940              1.0        1.0   \n",
       "1                        1.294219              1.0        0.0   \n",
       "2                        0.427715              1.0        0.0   \n",
       "3                        0.362663              1.0        1.0   \n",
       "4                        2.222767              1.0        1.0   \n",
       "\n",
       "   used_pin_number  online_order  fraud  \n",
       "0              0.0           0.0    0.0  \n",
       "1              0.0           0.0    0.0  \n",
       "2              0.0           1.0    0.0  \n",
       "3              0.0           1.0    0.0  \n",
       "4              0.0           1.0    0.0  "
      ]
     },
     "execution_count": 2,
     "metadata": {},
     "output_type": "execute_result"
    }
   ],
   "source": [
    "# Read the dataset csv file and store it into a dataframe called \"df\"\n",
    "df = pd.read_csv(r'F:\\Data Indra\\Project\\Project Fraud\\Credit Card Payment Fraud Detection\\card_transdata.csv')\n",
    "# use function head() to display first five rows dataset\n",
    "df.head()"
   ]
  },
  {
   "cell_type": "code",
   "execution_count": 3,
   "id": "e7b0532f",
   "metadata": {},
   "outputs": [
    {
     "data": {
      "text/plain": [
       "(1000000, 8)"
      ]
     },
     "execution_count": 3,
     "metadata": {},
     "output_type": "execute_result"
    }
   ],
   "source": [
    "#checking data dimension\n",
    "df.shape"
   ]
  },
  {
   "cell_type": "code",
   "execution_count": 4,
   "id": "7bada531",
   "metadata": {},
   "outputs": [
    {
     "name": "stdout",
     "output_type": "stream",
     "text": [
      "<class 'pandas.core.frame.DataFrame'>\n",
      "RangeIndex: 1000000 entries, 0 to 999999\n",
      "Data columns (total 8 columns):\n",
      " #   Column                          Non-Null Count    Dtype  \n",
      "---  ------                          --------------    -----  \n",
      " 0   distance_from_home              1000000 non-null  float64\n",
      " 1   distance_from_last_transaction  1000000 non-null  float64\n",
      " 2   ratio_to_median_purchase_price  1000000 non-null  float64\n",
      " 3   repeat_retailer                 1000000 non-null  float64\n",
      " 4   used_chip                       1000000 non-null  float64\n",
      " 5   used_pin_number                 1000000 non-null  float64\n",
      " 6   online_order                    1000000 non-null  float64\n",
      " 7   fraud                           1000000 non-null  float64\n",
      "dtypes: float64(8)\n",
      "memory usage: 61.0 MB\n"
     ]
    }
   ],
   "source": [
    "#check data column and data type\n",
    "df.info()"
   ]
  },
  {
   "cell_type": "code",
   "execution_count": 5,
   "id": "db39fbee",
   "metadata": {},
   "outputs": [
    {
     "name": "stdout",
     "output_type": "stream",
     "text": [
      "X shape: (1000000, 7)\n",
      "y shape : (1000000,)\n"
     ]
    },
    {
     "data": {
      "text/html": [
       "<div>\n",
       "<style scoped>\n",
       "    .dataframe tbody tr th:only-of-type {\n",
       "        vertical-align: middle;\n",
       "    }\n",
       "\n",
       "    .dataframe tbody tr th {\n",
       "        vertical-align: top;\n",
       "    }\n",
       "\n",
       "    .dataframe thead th {\n",
       "        text-align: right;\n",
       "    }\n",
       "</style>\n",
       "<table border=\"1\" class=\"dataframe\">\n",
       "  <thead>\n",
       "    <tr style=\"text-align: right;\">\n",
       "      <th></th>\n",
       "      <th>distance_from_home</th>\n",
       "      <th>distance_from_last_transaction</th>\n",
       "      <th>ratio_to_median_purchase_price</th>\n",
       "      <th>repeat_retailer</th>\n",
       "      <th>used_chip</th>\n",
       "      <th>used_pin_number</th>\n",
       "      <th>online_order</th>\n",
       "    </tr>\n",
       "  </thead>\n",
       "  <tbody>\n",
       "    <tr>\n",
       "      <th>0</th>\n",
       "      <td>57.877857</td>\n",
       "      <td>0.311140</td>\n",
       "      <td>1.945940</td>\n",
       "      <td>1.0</td>\n",
       "      <td>1.0</td>\n",
       "      <td>0.0</td>\n",
       "      <td>0.0</td>\n",
       "    </tr>\n",
       "    <tr>\n",
       "      <th>1</th>\n",
       "      <td>10.829943</td>\n",
       "      <td>0.175592</td>\n",
       "      <td>1.294219</td>\n",
       "      <td>1.0</td>\n",
       "      <td>0.0</td>\n",
       "      <td>0.0</td>\n",
       "      <td>0.0</td>\n",
       "    </tr>\n",
       "    <tr>\n",
       "      <th>2</th>\n",
       "      <td>5.091079</td>\n",
       "      <td>0.805153</td>\n",
       "      <td>0.427715</td>\n",
       "      <td>1.0</td>\n",
       "      <td>0.0</td>\n",
       "      <td>0.0</td>\n",
       "      <td>1.0</td>\n",
       "    </tr>\n",
       "    <tr>\n",
       "      <th>3</th>\n",
       "      <td>2.247564</td>\n",
       "      <td>5.600044</td>\n",
       "      <td>0.362663</td>\n",
       "      <td>1.0</td>\n",
       "      <td>1.0</td>\n",
       "      <td>0.0</td>\n",
       "      <td>1.0</td>\n",
       "    </tr>\n",
       "    <tr>\n",
       "      <th>4</th>\n",
       "      <td>44.190936</td>\n",
       "      <td>0.566486</td>\n",
       "      <td>2.222767</td>\n",
       "      <td>1.0</td>\n",
       "      <td>1.0</td>\n",
       "      <td>0.0</td>\n",
       "      <td>1.0</td>\n",
       "    </tr>\n",
       "  </tbody>\n",
       "</table>\n",
       "</div>"
      ],
      "text/plain": [
       "   distance_from_home  distance_from_last_transaction  \\\n",
       "0           57.877857                        0.311140   \n",
       "1           10.829943                        0.175592   \n",
       "2            5.091079                        0.805153   \n",
       "3            2.247564                        5.600044   \n",
       "4           44.190936                        0.566486   \n",
       "\n",
       "   ratio_to_median_purchase_price  repeat_retailer  used_chip  \\\n",
       "0                        1.945940              1.0        1.0   \n",
       "1                        1.294219              1.0        0.0   \n",
       "2                        0.427715              1.0        0.0   \n",
       "3                        0.362663              1.0        1.0   \n",
       "4                        2.222767              1.0        1.0   \n",
       "\n",
       "   used_pin_number  online_order  \n",
       "0              0.0           0.0  \n",
       "1              0.0           0.0  \n",
       "2              0.0           1.0  \n",
       "3              0.0           1.0  \n",
       "4              0.0           1.0  "
      ]
     },
     "execution_count": 5,
     "metadata": {},
     "output_type": "execute_result"
    }
   ],
   "source": [
    "#split Data input-output of the dataset\n",
    "#make function splitInputOutput dataset\n",
    "\n",
    "def splitInputOutput(data, target_column):\n",
    "    \"\"\"\n",
    "    Function to split input (x) and output (y)\n",
    "\n",
    "    Parameters\n",
    "    ----------\n",
    "    data : pd.DataFrame\n",
    "        The sample data input\n",
    "\n",
    "    target_column : str\n",
    "        The output column name\n",
    "\n",
    "    Return\n",
    "    ------\n",
    "    X : pd.DataFrame\n",
    "        input data\n",
    "\n",
    "    y : pd.DataFrame\n",
    "        output data\n",
    "    \"\"\"\n",
    "    X = data.drop(columns = target_column)\n",
    "    y = data[target_column]\n",
    "\n",
    "    # Validate\n",
    "    print('X shape:', X.shape)\n",
    "    print('y shape :', y.shape)\n",
    "\n",
    "    return X, y\n",
    "\n",
    "# Split input x and output y\n",
    "X, y = splitInputOutput(data = df, target_column = \"fraud\")\n",
    "\n",
    "# Show 5 first rows of input\n",
    "X.head()\n"
   ]
  },
  {
   "cell_type": "code",
   "execution_count": 6,
   "id": "9c06e03f",
   "metadata": {},
   "outputs": [
    {
     "data": {
      "text/plain": [
       "0    0.0\n",
       "1    0.0\n",
       "2    0.0\n",
       "3    0.0\n",
       "4    0.0\n",
       "Name: fraud, dtype: float64"
      ]
     },
     "execution_count": 6,
     "metadata": {},
     "output_type": "execute_result"
    }
   ],
   "source": [
    "# Show 5 first rows of output\n",
    "y.head()"
   ]
  },
  {
   "cell_type": "code",
   "execution_count": 7,
   "id": "7608be9b",
   "metadata": {},
   "outputs": [
    {
     "name": "stdout",
     "output_type": "stream",
     "text": [
      "Number of samples  : 1000000\n",
      "Number of features : 7\n"
     ]
    }
   ],
   "source": [
    "#Validate the Data Dimension\n",
    "# check data dimension\n",
    "n_samples, n_features = X.shape\n",
    "\n",
    "# print number samples and features\n",
    "print(f\"Number of samples  : {n_samples}\")\n",
    "print(f\"Number of features : {n_features}\")\n"
   ]
  },
  {
   "cell_type": "code",
   "execution_count": 8,
   "id": "cd6535f2",
   "metadata": {},
   "outputs": [
    {
     "name": "stdout",
     "output_type": "stream",
     "text": [
      "name of features : Index(['distance_from_home', 'distance_from_last_transaction',\n",
      "       'ratio_to_median_purchase_price', 'repeat_retailer', 'used_chip',\n",
      "       'used_pin_number', 'online_order'],\n",
      "      dtype='object')\n"
     ]
    }
   ],
   "source": [
    "# check data features name\n",
    "features_names = X.columns\n",
    "\n",
    "# print name of features\n",
    "print(f\"name of features : {features_names}\")"
   ]
  },
  {
   "cell_type": "code",
   "execution_count": 9,
   "id": "930b190c",
   "metadata": {},
   "outputs": [],
   "source": [
    "#Split Train, Valid, and Test\n",
    "#Create a function to split train-valid-test\n",
    "from sklearn.model_selection import train_test_split\n",
    "\n",
    "def splitTrainValidTest(X, y, test_size, valid_size, stratify, random_state=42):\n",
    "    \"\"\"\n",
    "    Split data into train & test\n",
    "\n",
    "    Parameters\n",
    "    ----------\n",
    "    X : pd.DataFrame\n",
    "        The input data\n",
    "\n",
    "    y : pd.Series\n",
    "        The output data\n",
    "\n",
    "    test_size : float\n",
    "        The proportion of number of test data to total data\n",
    "\n",
    "    valid_size : float\n",
    "        The proportion of number of validation data to total data\n",
    "\n",
    "    stratify : pd.Series\n",
    "        Reference to stratify the splitting\n",
    "\n",
    "    random_state : int, default=42\n",
    "        The random seed, for reproducibility\n",
    "\n",
    "    Returns\n",
    "    -------\n",
    "    X_train : pd.DataFrame\n",
    "        The input train data\n",
    "\n",
    "    X_test : pd.DataFrame\n",
    "        The input test data\n",
    "\n",
    "    y_train : pd.Series\n",
    "        The output train data\n",
    "\n",
    "    y_test : pd.Series\n",
    "        The output test data\n",
    "    \"\"\"\n",
    "    # Split the data\n",
    "    X_train, X_not_train, y_train, y_not_train = train_test_split(\n",
    "        X,\n",
    "        y,\n",
    "        test_size = test_size + valid_size,\n",
    "        stratify = stratify,\n",
    "        random_state = random_state\n",
    "    )\n",
    "\n",
    "    # Then, split valid and test from not_train\n",
    "    X_valid, X_test, y_valid, y_test = train_test_split(\n",
    "        X_not_train,\n",
    "        y_not_train,\n",
    "        test_size = valid_size/(test_size + valid_size),\n",
    "        stratify = y_not_train,\n",
    "        random_state = random_state\n",
    "    )\n",
    "\n",
    "    # Validate\n",
    "    print('X train shape:', X_train.shape)\n",
    "    print('y train shape:', y_train.shape)\n",
    "    print('X valid shape :', X_valid.shape)\n",
    "    print('y valid shape :', y_valid.shape)\n",
    "    print('X test shape :', X_test.shape)\n",
    "    print('y test shape :', y_test.shape)\n",
    "\n",
    "    return X_train, X_valid, X_test, y_train, y_valid, y_test\n"
   ]
  },
  {
   "cell_type": "code",
   "execution_count": 10,
   "id": "cb22efee",
   "metadata": {},
   "outputs": [
    {
     "name": "stdout",
     "output_type": "stream",
     "text": [
      "X train shape: (600000, 7)\n",
      "y train shape: (600000,)\n",
      "X valid shape : (200000, 7)\n",
      "y valid shape : (200000,)\n",
      "X test shape : (200000, 7)\n",
      "y test shape : (200000,)\n"
     ]
    }
   ],
   "source": [
    "# Run the code\n",
    "splitted_data = splitTrainValidTest(\n",
    "    X = X,\n",
    "    y = y,\n",
    "    test_size = 0.2,\n",
    "    valid_size = 0.2,\n",
    "    stratify = y,\n",
    "    random_state = 42\n",
    ")\n",
    "\n",
    "X_train, X_valid, X_test, y_train, y_valid, y_test = splitted_data\n"
   ]
  },
  {
   "cell_type": "markdown",
   "id": "af85d06a",
   "metadata": {},
   "source": [
    "o\ttest_size = 20% from original data,\n",
    "o\tvalidation_size = 20% from original data,\n",
    "o\ttrain_size = 60% from original data"
   ]
  },
  {
   "cell_type": "markdown",
   "id": "01ccf10f",
   "metadata": {},
   "source": [
    "Preprocess Data"
   ]
  },
  {
   "cell_type": "code",
   "execution_count": 11,
   "id": "e84bbb73",
   "metadata": {},
   "outputs": [
    {
     "data": {
      "text/html": [
       "<div>\n",
       "<style scoped>\n",
       "    .dataframe tbody tr th:only-of-type {\n",
       "        vertical-align: middle;\n",
       "    }\n",
       "\n",
       "    .dataframe tbody tr th {\n",
       "        vertical-align: top;\n",
       "    }\n",
       "\n",
       "    .dataframe thead th {\n",
       "        text-align: right;\n",
       "    }\n",
       "</style>\n",
       "<table border=\"1\" class=\"dataframe\">\n",
       "  <thead>\n",
       "    <tr style=\"text-align: right;\">\n",
       "      <th></th>\n",
       "      <th>repeat_retailer</th>\n",
       "      <th>used_chip</th>\n",
       "      <th>used_pin_number</th>\n",
       "      <th>online_order</th>\n",
       "    </tr>\n",
       "  </thead>\n",
       "  <tbody>\n",
       "    <tr>\n",
       "      <th>314541</th>\n",
       "      <td>0.0</td>\n",
       "      <td>0.0</td>\n",
       "      <td>0.0</td>\n",
       "      <td>0.0</td>\n",
       "    </tr>\n",
       "    <tr>\n",
       "      <th>47553</th>\n",
       "      <td>1.0</td>\n",
       "      <td>0.0</td>\n",
       "      <td>0.0</td>\n",
       "      <td>1.0</td>\n",
       "    </tr>\n",
       "    <tr>\n",
       "      <th>738366</th>\n",
       "      <td>0.0</td>\n",
       "      <td>0.0</td>\n",
       "      <td>0.0</td>\n",
       "      <td>1.0</td>\n",
       "    </tr>\n",
       "    <tr>\n",
       "      <th>569097</th>\n",
       "      <td>1.0</td>\n",
       "      <td>0.0</td>\n",
       "      <td>0.0</td>\n",
       "      <td>1.0</td>\n",
       "    </tr>\n",
       "    <tr>\n",
       "      <th>131210</th>\n",
       "      <td>1.0</td>\n",
       "      <td>0.0</td>\n",
       "      <td>0.0</td>\n",
       "      <td>0.0</td>\n",
       "    </tr>\n",
       "  </tbody>\n",
       "</table>\n",
       "</div>"
      ],
      "text/plain": [
       "        repeat_retailer  used_chip  used_pin_number  online_order\n",
       "314541              0.0        0.0              0.0           0.0\n",
       "47553               1.0        0.0              0.0           1.0\n",
       "738366              0.0        0.0              0.0           1.0\n",
       "569097              1.0        0.0              0.0           1.0\n",
       "131210              1.0        0.0              0.0           0.0"
      ]
     },
     "execution_count": 11,
     "metadata": {},
     "output_type": "execute_result"
    }
   ],
   "source": [
    "#Split numerical and categoric data\n",
    "# define numerical data\n",
    "num_col = ['distance_from_home','distance_from_last_transaction','ratio_to_median_purchase_price']\n",
    "\n",
    "# define categorical\n",
    "cat_col = ['repeat_retailer','used_chip','used_pin_number','online_order']\n",
    "\n",
    "# split\n",
    "X_train_num = X_train[num_col]\n",
    "X_train_cat = X_train[cat_col]\n",
    "\n",
    "X_train_cat.head()\n"
   ]
  },
  {
   "cell_type": "code",
   "execution_count": 12,
   "id": "d483be73",
   "metadata": {},
   "outputs": [
    {
     "name": "stdout",
     "output_type": "stream",
     "text": [
      "<class 'pandas.core.frame.DataFrame'>\n",
      "Int64Index: 600000 entries, 314541 to 911151\n",
      "Data columns (total 4 columns):\n",
      " #   Column           Non-Null Count   Dtype  \n",
      "---  ------           --------------   -----  \n",
      " 0   repeat_retailer  600000 non-null  float64\n",
      " 1   used_chip        600000 non-null  float64\n",
      " 2   used_pin_number  600000 non-null  float64\n",
      " 3   online_order     600000 non-null  float64\n",
      "dtypes: float64(4)\n",
      "memory usage: 22.9 MB\n"
     ]
    }
   ],
   "source": [
    "X_train_cat.info()"
   ]
  },
  {
   "cell_type": "markdown",
   "id": "d280b060",
   "metadata": {},
   "source": [
    "the data info shown that categorical columns already encoded as numerical (dtype is float64)."
   ]
  },
  {
   "cell_type": "code",
   "execution_count": 13,
   "id": "b230d491",
   "metadata": {},
   "outputs": [
    {
     "data": {
      "text/html": [
       "<div>\n",
       "<style scoped>\n",
       "    .dataframe tbody tr th:only-of-type {\n",
       "        vertical-align: middle;\n",
       "    }\n",
       "\n",
       "    .dataframe tbody tr th {\n",
       "        vertical-align: top;\n",
       "    }\n",
       "\n",
       "    .dataframe thead th {\n",
       "        text-align: right;\n",
       "    }\n",
       "</style>\n",
       "<table border=\"1\" class=\"dataframe\">\n",
       "  <thead>\n",
       "    <tr style=\"text-align: right;\">\n",
       "      <th></th>\n",
       "      <th>distance_from_home</th>\n",
       "      <th>distance_from_last_transaction</th>\n",
       "      <th>ratio_to_median_purchase_price</th>\n",
       "      <th>repeat_retailer</th>\n",
       "      <th>used_chip</th>\n",
       "      <th>used_pin_number</th>\n",
       "      <th>online_order</th>\n",
       "    </tr>\n",
       "  </thead>\n",
       "  <tbody>\n",
       "    <tr>\n",
       "      <th>314541</th>\n",
       "      <td>0.923874</td>\n",
       "      <td>1.034514</td>\n",
       "      <td>2.123430</td>\n",
       "      <td>0.0</td>\n",
       "      <td>0.0</td>\n",
       "      <td>0.0</td>\n",
       "      <td>0.0</td>\n",
       "    </tr>\n",
       "    <tr>\n",
       "      <th>47553</th>\n",
       "      <td>47.643412</td>\n",
       "      <td>6.050101</td>\n",
       "      <td>1.963362</td>\n",
       "      <td>1.0</td>\n",
       "      <td>0.0</td>\n",
       "      <td>0.0</td>\n",
       "      <td>1.0</td>\n",
       "    </tr>\n",
       "    <tr>\n",
       "      <th>738366</th>\n",
       "      <td>0.422323</td>\n",
       "      <td>0.280048</td>\n",
       "      <td>0.718345</td>\n",
       "      <td>0.0</td>\n",
       "      <td>0.0</td>\n",
       "      <td>0.0</td>\n",
       "      <td>1.0</td>\n",
       "    </tr>\n",
       "    <tr>\n",
       "      <th>569097</th>\n",
       "      <td>4.113173</td>\n",
       "      <td>2.670351</td>\n",
       "      <td>3.685166</td>\n",
       "      <td>1.0</td>\n",
       "      <td>0.0</td>\n",
       "      <td>0.0</td>\n",
       "      <td>1.0</td>\n",
       "    </tr>\n",
       "    <tr>\n",
       "      <th>131210</th>\n",
       "      <td>45.904031</td>\n",
       "      <td>6.774806</td>\n",
       "      <td>1.497201</td>\n",
       "      <td>1.0</td>\n",
       "      <td>0.0</td>\n",
       "      <td>0.0</td>\n",
       "      <td>0.0</td>\n",
       "    </tr>\n",
       "  </tbody>\n",
       "</table>\n",
       "</div>"
      ],
      "text/plain": [
       "        distance_from_home  distance_from_last_transaction  \\\n",
       "314541            0.923874                        1.034514   \n",
       "47553            47.643412                        6.050101   \n",
       "738366            0.422323                        0.280048   \n",
       "569097            4.113173                        2.670351   \n",
       "131210           45.904031                        6.774806   \n",
       "\n",
       "        ratio_to_median_purchase_price  repeat_retailer  used_chip  \\\n",
       "314541                        2.123430              0.0        0.0   \n",
       "47553                         1.963362              1.0        0.0   \n",
       "738366                        0.718345              0.0        0.0   \n",
       "569097                        3.685166              1.0        0.0   \n",
       "131210                        1.497201              1.0        0.0   \n",
       "\n",
       "        used_pin_number  online_order  \n",
       "314541              0.0           0.0  \n",
       "47553               0.0           1.0  \n",
       "738366              0.0           1.0  \n",
       "569097              0.0           1.0  \n",
       "131210              0.0           0.0  "
      ]
     },
     "execution_count": 13,
     "metadata": {},
     "output_type": "execute_result"
    }
   ],
   "source": [
    "# create EDA dataset\n",
    "eda_df = X_train.copy()\n",
    "\n",
    "eda_df.head()"
   ]
  },
  {
   "cell_type": "code",
   "execution_count": 14,
   "id": "a5d2baed",
   "metadata": {},
   "outputs": [
    {
     "data": {
      "text/html": [
       "<div>\n",
       "<style scoped>\n",
       "    .dataframe tbody tr th:only-of-type {\n",
       "        vertical-align: middle;\n",
       "    }\n",
       "\n",
       "    .dataframe tbody tr th {\n",
       "        vertical-align: top;\n",
       "    }\n",
       "\n",
       "    .dataframe thead th {\n",
       "        text-align: right;\n",
       "    }\n",
       "</style>\n",
       "<table border=\"1\" class=\"dataframe\">\n",
       "  <thead>\n",
       "    <tr style=\"text-align: right;\">\n",
       "      <th></th>\n",
       "      <th>distance_from_home</th>\n",
       "      <th>distance_from_last_transaction</th>\n",
       "      <th>ratio_to_median_purchase_price</th>\n",
       "      <th>repeat_retailer</th>\n",
       "      <th>used_chip</th>\n",
       "      <th>used_pin_number</th>\n",
       "      <th>online_order</th>\n",
       "    </tr>\n",
       "  </thead>\n",
       "  <tbody>\n",
       "    <tr>\n",
       "      <th>count</th>\n",
       "      <td>600000.000000</td>\n",
       "      <td>600000.000000</td>\n",
       "      <td>600000.000000</td>\n",
       "      <td>600000.000000</td>\n",
       "      <td>600000.000000</td>\n",
       "      <td>600000.000000</td>\n",
       "      <td>600000.000000</td>\n",
       "    </tr>\n",
       "    <tr>\n",
       "      <th>mean</th>\n",
       "      <td>26.693168</td>\n",
       "      <td>5.034706</td>\n",
       "      <td>1.826908</td>\n",
       "      <td>0.881307</td>\n",
       "      <td>0.350988</td>\n",
       "      <td>0.100547</td>\n",
       "      <td>0.650873</td>\n",
       "    </tr>\n",
       "    <tr>\n",
       "      <th>std</th>\n",
       "      <td>66.503146</td>\n",
       "      <td>27.799233</td>\n",
       "      <td>2.834784</td>\n",
       "      <td>0.323428</td>\n",
       "      <td>0.477280</td>\n",
       "      <td>0.300728</td>\n",
       "      <td>0.476694</td>\n",
       "    </tr>\n",
       "    <tr>\n",
       "      <th>min</th>\n",
       "      <td>0.024144</td>\n",
       "      <td>0.000118</td>\n",
       "      <td>0.004399</td>\n",
       "      <td>0.000000</td>\n",
       "      <td>0.000000</td>\n",
       "      <td>0.000000</td>\n",
       "      <td>0.000000</td>\n",
       "    </tr>\n",
       "    <tr>\n",
       "      <th>25%</th>\n",
       "      <td>3.878411</td>\n",
       "      <td>0.296040</td>\n",
       "      <td>0.476397</td>\n",
       "      <td>1.000000</td>\n",
       "      <td>0.000000</td>\n",
       "      <td>0.000000</td>\n",
       "      <td>0.000000</td>\n",
       "    </tr>\n",
       "    <tr>\n",
       "      <th>50%</th>\n",
       "      <td>9.973288</td>\n",
       "      <td>0.996219</td>\n",
       "      <td>0.998293</td>\n",
       "      <td>1.000000</td>\n",
       "      <td>0.000000</td>\n",
       "      <td>0.000000</td>\n",
       "      <td>1.000000</td>\n",
       "    </tr>\n",
       "    <tr>\n",
       "      <th>75%</th>\n",
       "      <td>25.796317</td>\n",
       "      <td>3.347337</td>\n",
       "      <td>2.096242</td>\n",
       "      <td>1.000000</td>\n",
       "      <td>1.000000</td>\n",
       "      <td>0.000000</td>\n",
       "      <td>1.000000</td>\n",
       "    </tr>\n",
       "    <tr>\n",
       "      <th>max</th>\n",
       "      <td>10632.723672</td>\n",
       "      <td>11851.104565</td>\n",
       "      <td>267.802942</td>\n",
       "      <td>1.000000</td>\n",
       "      <td>1.000000</td>\n",
       "      <td>1.000000</td>\n",
       "      <td>1.000000</td>\n",
       "    </tr>\n",
       "  </tbody>\n",
       "</table>\n",
       "</div>"
      ],
      "text/plain": [
       "       distance_from_home  distance_from_last_transaction  \\\n",
       "count       600000.000000                   600000.000000   \n",
       "mean            26.693168                        5.034706   \n",
       "std             66.503146                       27.799233   \n",
       "min              0.024144                        0.000118   \n",
       "25%              3.878411                        0.296040   \n",
       "50%              9.973288                        0.996219   \n",
       "75%             25.796317                        3.347337   \n",
       "max          10632.723672                    11851.104565   \n",
       "\n",
       "       ratio_to_median_purchase_price  repeat_retailer      used_chip  \\\n",
       "count                   600000.000000    600000.000000  600000.000000   \n",
       "mean                         1.826908         0.881307       0.350988   \n",
       "std                          2.834784         0.323428       0.477280   \n",
       "min                          0.004399         0.000000       0.000000   \n",
       "25%                          0.476397         1.000000       0.000000   \n",
       "50%                          0.998293         1.000000       0.000000   \n",
       "75%                          2.096242         1.000000       1.000000   \n",
       "max                        267.802942         1.000000       1.000000   \n",
       "\n",
       "       used_pin_number   online_order  \n",
       "count    600000.000000  600000.000000  \n",
       "mean          0.100547       0.650873  \n",
       "std           0.300728       0.476694  \n",
       "min           0.000000       0.000000  \n",
       "25%           0.000000       0.000000  \n",
       "50%           0.000000       1.000000  \n",
       "75%           0.000000       1.000000  \n",
       "max           1.000000       1.000000  "
      ]
     },
     "execution_count": 14,
     "metadata": {},
     "output_type": "execute_result"
    }
   ],
   "source": [
    "#Check for the data integrity and potential outliers\n",
    "# Check min, max and quartile values\n",
    "\n",
    "eda_df.describe()"
   ]
  },
  {
   "cell_type": "markdown",
   "id": "860ae82d",
   "metadata": {},
   "source": [
    "There are some potential extreme values on distance_from_home, distance_from_last_transaction and ratio_to_median_purchase_price"
   ]
  },
  {
   "cell_type": "code",
   "execution_count": 15,
   "id": "5c71dbf5",
   "metadata": {},
   "outputs": [
    {
     "data": {
      "text/plain": [
       "distance_from_home                0\n",
       "distance_from_last_transaction    0\n",
       "ratio_to_median_purchase_price    0\n",
       "repeat_retailer                   0\n",
       "used_chip                         0\n",
       "used_pin_number                   0\n",
       "online_order                      0\n",
       "dtype: int64"
      ]
     },
     "execution_count": 15,
     "metadata": {},
     "output_type": "execute_result"
    }
   ],
   "source": [
    "#Check for missing values to handle them if any\n",
    "eda_df.isna().sum()\n"
   ]
  },
  {
   "cell_type": "markdown",
   "id": "1e734eaf",
   "metadata": {},
   "source": [
    "There are no missing values"
   ]
  },
  {
   "cell_type": "code",
   "execution_count": 16,
   "id": "a406aa61",
   "metadata": {},
   "outputs": [
    {
     "data": {
      "text/html": [
       "<div>\n",
       "<style scoped>\n",
       "    .dataframe tbody tr th:only-of-type {\n",
       "        vertical-align: middle;\n",
       "    }\n",
       "\n",
       "    .dataframe tbody tr th {\n",
       "        vertical-align: top;\n",
       "    }\n",
       "\n",
       "    .dataframe thead th {\n",
       "        text-align: right;\n",
       "    }\n",
       "</style>\n",
       "<table border=\"1\" class=\"dataframe\">\n",
       "  <thead>\n",
       "    <tr style=\"text-align: right;\">\n",
       "      <th></th>\n",
       "      <th>distance_from_home</th>\n",
       "      <th>distance_from_last_transaction</th>\n",
       "      <th>ratio_to_median_purchase_price</th>\n",
       "      <th>repeat_retailer</th>\n",
       "      <th>used_chip</th>\n",
       "      <th>used_pin_number</th>\n",
       "      <th>online_order</th>\n",
       "    </tr>\n",
       "  </thead>\n",
       "  <tbody>\n",
       "  </tbody>\n",
       "</table>\n",
       "</div>"
      ],
      "text/plain": [
       "Empty DataFrame\n",
       "Columns: [distance_from_home, distance_from_last_transaction, ratio_to_median_purchase_price, repeat_retailer, used_chip, used_pin_number, online_order]\n",
       "Index: []"
      ]
     },
     "execution_count": 16,
     "metadata": {},
     "output_type": "execute_result"
    }
   ],
   "source": [
    "#identify duplicate rows\n",
    "duplicateRows = eda_df[eda_df.duplicated()]\n",
    "\n",
    "#view duplicate rows\n",
    "duplicateRows"
   ]
  },
  {
   "cell_type": "markdown",
   "id": "abb017af",
   "metadata": {},
   "source": [
    "the data has no duplicated value"
   ]
  },
  {
   "cell_type": "code",
   "execution_count": 17,
   "id": "444173e1",
   "metadata": {},
   "outputs": [
    {
     "data": {
      "image/png": "[encoded data removed]",
      "text/plain": [
       "<Figure size 2500x900 with 1 Axes>"
      ]
     },
     "metadata": {},
     "output_type": "display_data"
    }
   ],
   "source": [
    "# Visualization numerical outliers with boxplot from matplotlib library\n",
    "plt.figure(figsize=(25, 9))\n",
    "X_train_num.boxplot()\n",
    "plt.show()"
   ]
  },
  {
   "cell_type": "markdown",
   "id": "76e22952",
   "metadata": {},
   "source": [
    "there are potential outliers above 4000 for distance_from_home, distance_from_last_transaction\n"
   ]
  },
  {
   "cell_type": "code",
   "execution_count": 18,
   "id": "4530dcea",
   "metadata": {},
   "outputs": [
    {
     "data": {
      "image/png": "[encoded data removed]",
      "text/plain": [
       "<Figure size 700x700 with 1 Axes>"
      ]
     },
     "metadata": {},
     "output_type": "display_data"
    }
   ],
   "source": [
    "#the ratio_to_median_purchase_price visualize in one chart for the detail\n",
    "plt.figure(figsize=(7, 7))\n",
    "sns.boxplot(X_train_num['ratio_to_median_purchase_price'])\n",
    "plt.show()"
   ]
  },
  {
   "cell_type": "markdown",
   "id": "206bd9da",
   "metadata": {},
   "source": [
    "the ratio_to_median_purchase_price has potential outliers on above 150 value."
   ]
  },
  {
   "cell_type": "code",
   "execution_count": 19,
   "id": "874f34c6",
   "metadata": {},
   "outputs": [
    {
     "data": {
      "text/plain": [
       "0.0    0.912597\n",
       "1.0    0.087403\n",
       "Name: fraud, dtype: float64"
      ]
     },
     "execution_count": 19,
     "metadata": {},
     "output_type": "execute_result"
    }
   ],
   "source": [
    "#check the response class of the dataset\n",
    "#Check proportion of positive class in imbalanced dataset\n",
    "y_train.value_counts(normalize = True)"
   ]
  },
  {
   "cell_type": "code",
   "execution_count": 20,
   "id": "54ddafd5",
   "metadata": {},
   "outputs": [
    {
     "data": {
      "text/plain": [
       "0.0    547558\n",
       "1.0     52442\n",
       "Name: fraud, dtype: int64"
      ]
     },
     "execution_count": 20,
     "metadata": {},
     "output_type": "execute_result"
    }
   ],
   "source": [
    "# number of positive class in imbalanced dataset\n",
    "y_train.value_counts()"
   ]
  },
  {
   "cell_type": "code",
   "execution_count": 21,
   "id": "c4852d80",
   "metadata": {},
   "outputs": [
    {
     "data": {
      "text/plain": [
       "<Axes: xlabel='fraud', ylabel='count'>"
      ]
     },
     "execution_count": 21,
     "metadata": {},
     "output_type": "execute_result"
    },
    {
     "data": {
      "image/png": "[encoded data removed]",
      "text/plain": [
       "<Figure size 640x480 with 1 Axes>"
      ]
     },
     "metadata": {},
     "output_type": "display_data"
    }
   ],
   "source": [
    "# Visualize the original proportion response class\n",
    "sns.countplot(x = y_train,\n",
    "              hue = y_train,\n",
    "              dodge = False)"
   ]
  },
  {
   "cell_type": "markdown",
   "id": "89ee6d87",
   "metadata": {},
   "source": [
    "the positive class int the dataset is highly imbalance proportion 52442:547558 (0.087403).\n",
    "it will be balancing using Random Under Sampling Method (RUS) for efficiency reason."
   ]
  },
  {
   "cell_type": "code",
   "execution_count": 22,
   "id": "ad60f741",
   "metadata": {},
   "outputs": [],
   "source": [
    "#create Random Under Sampling (RUS) function\n",
    "def rusFitResample(x, y):\n",
    "\n",
    "    # Create copy of set data\n",
    "    x = x.copy()\n",
    "    y = y.copy()\n",
    "\n",
    "    # Create sampling object\n",
    "    rus = RandomUnderSampler(random_state = 42)\n",
    "\n",
    "    # Balancing data set\n",
    "    x_rus, y_rus = rus.fit_resample(x, y)\n",
    "\n",
    "    # Return balanced data set\n",
    "    return x_rus, y_rus"
   ]
  },
  {
   "cell_type": "code",
   "execution_count": 23,
   "id": "a4871232",
   "metadata": {},
   "outputs": [],
   "source": [
    "# Perform RUS\n",
    "x_rus, y_rus = rusFitResample(x = X_train, y = y_train)"
   ]
  },
  {
   "cell_type": "code",
   "execution_count": 24,
   "id": "e43d08d5",
   "metadata": {},
   "outputs": [
    {
     "data": {
      "text/plain": [
       "0.0    52442\n",
       "1.0    52442\n",
       "Name: fraud, dtype: int64"
      ]
     },
     "execution_count": 24,
     "metadata": {},
     "output_type": "execute_result"
    }
   ],
   "source": [
    "# Check the balanced response\n",
    "y_rus.value_counts()"
   ]
  },
  {
   "cell_type": "code",
   "execution_count": 25,
   "id": "99c09e51",
   "metadata": {},
   "outputs": [
    {
     "data": {
      "text/plain": [
       "<Axes: xlabel='fraud', ylabel='count'>"
      ]
     },
     "execution_count": 25,
     "metadata": {},
     "output_type": "execute_result"
    },
    {
     "data": {
      "image/png": "[encoded data removed]",
      "text/plain": [
       "<Figure size 640x480 with 1 Axes>"
      ]
     },
     "metadata": {},
     "output_type": "display_data"
    }
   ],
   "source": [
    "# Visualize the proportion of response categories\n",
    "sns.countplot(x = y_rus,\n",
    "              dodge = False)"
   ]
  },
  {
   "cell_type": "markdown",
   "id": "8910bc2d",
   "metadata": {},
   "source": [
    "after using RUS method the dataset has balanced class response proportion 52442:52442"
   ]
  },
  {
   "cell_type": "markdown",
   "id": "645ef063",
   "metadata": {},
   "source": [
    "### Create Models on original Dataset (imbalanced dataset)"
   ]
  },
  {
   "cell_type": "code",
   "execution_count": 26,
   "id": "e68a6988",
   "metadata": {},
   "outputs": [],
   "source": [
    "#Define model & hyperparameter\n",
    "model_dict = {\n",
    "    'baseline': DummyClassifier(),\n",
    "    'logistic regression': LogisticRegression(),\n",
    "    'decision tree': DecisionTreeClassifier(random_state=42),\n",
    "    'random forest': RandomForestClassifier(random_state=42)\n",
    "}\n",
    "\n",
    "hyperparam_dict = {\n",
    "    'baseline': {'strategy':['most_frequent']},\n",
    "    'logistic regression': {},\n",
    "    'decision tree': {'max_depth': [5, 10, 20]},\n",
    "    'random forest': {'n_estimators': [100, 300]}\n",
    "}\n",
    "\n"
   ]
  },
  {
   "cell_type": "code",
   "execution_count": 27,
   "id": "b57ad3ab",
   "metadata": {},
   "outputs": [
    {
     "name": "stdout",
     "output_type": "stream",
     "text": [
      "start modeling baseline\n",
      "Fitting 5 folds for each of 1 candidates, totalling 5 fits\n",
      "[CV 1/5] END strategy=most_frequent;, score=(train=0.500, test=0.500) total time=   0.0s\n",
      "[CV 2/5] END strategy=most_frequent;, score=(train=0.500, test=0.500) total time=   0.0s\n",
      "[CV 3/5] END strategy=most_frequent;, score=(train=0.500, test=0.500) total time=   0.0s\n",
      "[CV 4/5] END strategy=most_frequent;, score=(train=0.500, test=0.500) total time=   0.0s\n",
      "[CV 5/5] END strategy=most_frequent;, score=(train=0.500, test=0.500) total time=   0.0s\n",
      "finish modeling baseline\n",
      "\n",
      "start modeling logistic regression\n",
      "Fitting 5 folds for each of 1 candidates, totalling 5 fits\n"
     ]
    },
    {
     "name": "stderr",
     "output_type": "stream",
     "text": [
      "C:\\Users\\drawy\\anaconda3\\envs\\statistic_env\\lib\\site-packages\\sklearn\\linear_model\\_logistic.py:460: ConvergenceWarning: lbfgs failed to converge (status=1):\n",
      "STOP: TOTAL NO. of ITERATIONS REACHED LIMIT.\n",
      "\n",
      "Increase the number of iterations (max_iter) or scale the data as shown in:\n",
      "    https://scikit-learn.org/stable/modules/preprocessing.html\n",
      "Please also refer to the documentation for alternative solver options:\n",
      "    https://scikit-learn.org/stable/modules/linear_model.html#logistic-regression\n",
      "  n_iter_i = _check_optimize_result(\n"
     ]
    },
    {
     "name": "stdout",
     "output_type": "stream",
     "text": [
      "[CV 1/5] END ..............., score=(train=0.967, test=0.968) total time=   3.5s\n"
     ]
    },
    {
     "name": "stderr",
     "output_type": "stream",
     "text": [
      "C:\\Users\\drawy\\anaconda3\\envs\\statistic_env\\lib\\site-packages\\sklearn\\linear_model\\_logistic.py:460: ConvergenceWarning: lbfgs failed to converge (status=1):\n",
      "STOP: TOTAL NO. of ITERATIONS REACHED LIMIT.\n",
      "\n",
      "Increase the number of iterations (max_iter) or scale the data as shown in:\n",
      "    https://scikit-learn.org/stable/modules/preprocessing.html\n",
      "Please also refer to the documentation for alternative solver options:\n",
      "    https://scikit-learn.org/stable/modules/linear_model.html#logistic-regression\n",
      "  n_iter_i = _check_optimize_result(\n"
     ]
    },
    {
     "name": "stdout",
     "output_type": "stream",
     "text": [
      "[CV 2/5] END ..............., score=(train=0.966, test=0.963) total time=   3.6s\n"
     ]
    },
    {
     "name": "stderr",
     "output_type": "stream",
     "text": [
      "C:\\Users\\drawy\\anaconda3\\envs\\statistic_env\\lib\\site-packages\\sklearn\\linear_model\\_logistic.py:460: ConvergenceWarning: lbfgs failed to converge (status=1):\n",
      "STOP: TOTAL NO. of ITERATIONS REACHED LIMIT.\n",
      "\n",
      "Increase the number of iterations (max_iter) or scale the data as shown in:\n",
      "    https://scikit-learn.org/stable/modules/preprocessing.html\n",
      "Please also refer to the documentation for alternative solver options:\n",
      "    https://scikit-learn.org/stable/modules/linear_model.html#logistic-regression\n",
      "  n_iter_i = _check_optimize_result(\n"
     ]
    },
    {
     "name": "stdout",
     "output_type": "stream",
     "text": [
      "[CV 3/5] END ..............., score=(train=0.966, test=0.966) total time=   3.6s\n"
     ]
    },
    {
     "name": "stderr",
     "output_type": "stream",
     "text": [
      "C:\\Users\\drawy\\anaconda3\\envs\\statistic_env\\lib\\site-packages\\sklearn\\linear_model\\_logistic.py:460: ConvergenceWarning: lbfgs failed to converge (status=1):\n",
      "STOP: TOTAL NO. of ITERATIONS REACHED LIMIT.\n",
      "\n",
      "Increase the number of iterations (max_iter) or scale the data as shown in:\n",
      "    https://scikit-learn.org/stable/modules/preprocessing.html\n",
      "Please also refer to the documentation for alternative solver options:\n",
      "    https://scikit-learn.org/stable/modules/linear_model.html#logistic-regression\n",
      "  n_iter_i = _check_optimize_result(\n"
     ]
    },
    {
     "name": "stdout",
     "output_type": "stream",
     "text": [
      "[CV 4/5] END ..............., score=(train=0.966, test=0.966) total time=   3.9s\n"
     ]
    },
    {
     "name": "stderr",
     "output_type": "stream",
     "text": [
      "C:\\Users\\drawy\\anaconda3\\envs\\statistic_env\\lib\\site-packages\\sklearn\\linear_model\\_logistic.py:460: ConvergenceWarning: lbfgs failed to converge (status=1):\n",
      "STOP: TOTAL NO. of ITERATIONS REACHED LIMIT.\n",
      "\n",
      "Increase the number of iterations (max_iter) or scale the data as shown in:\n",
      "    https://scikit-learn.org/stable/modules/preprocessing.html\n",
      "Please also refer to the documentation for alternative solver options:\n",
      "    https://scikit-learn.org/stable/modules/linear_model.html#logistic-regression\n",
      "  n_iter_i = _check_optimize_result(\n"
     ]
    },
    {
     "name": "stdout",
     "output_type": "stream",
     "text": [
      "[CV 5/5] END ..............., score=(train=0.967, test=0.967) total time=   3.8s\n"
     ]
    },
    {
     "name": "stderr",
     "output_type": "stream",
     "text": [
      "C:\\Users\\drawy\\anaconda3\\envs\\statistic_env\\lib\\site-packages\\sklearn\\linear_model\\_logistic.py:460: ConvergenceWarning: lbfgs failed to converge (status=1):\n",
      "STOP: TOTAL NO. of ITERATIONS REACHED LIMIT.\n",
      "\n",
      "Increase the number of iterations (max_iter) or scale the data as shown in:\n",
      "    https://scikit-learn.org/stable/modules/preprocessing.html\n",
      "Please also refer to the documentation for alternative solver options:\n",
      "    https://scikit-learn.org/stable/modules/linear_model.html#logistic-regression\n",
      "  n_iter_i = _check_optimize_result(\n"
     ]
    },
    {
     "name": "stdout",
     "output_type": "stream",
     "text": [
      "finish modeling logistic regression\n",
      "\n",
      "start modeling decision tree\n",
      "Fitting 5 folds for each of 3 candidates, totalling 15 fits\n",
      "[CV 1/5] END ...max_depth=5;, score=(train=1.000, test=1.000) total time=   2.5s\n",
      "[CV 2/5] END ...max_depth=5;, score=(train=1.000, test=1.000) total time=   1.9s\n",
      "[CV 3/5] END ...max_depth=5;, score=(train=1.000, test=1.000) total time=   1.9s\n",
      "[CV 4/5] END ...max_depth=5;, score=(train=1.000, test=1.000) total time=   2.4s\n",
      "[CV 5/5] END ...max_depth=5;, score=(train=1.000, test=1.000) total time=   1.9s\n",
      "[CV 1/5] END ..max_depth=10;, score=(train=1.000, test=1.000) total time=   3.0s\n",
      "[CV 2/5] END ..max_depth=10;, score=(train=1.000, test=1.000) total time=   2.5s\n",
      "[CV 3/5] END ..max_depth=10;, score=(train=1.000, test=1.000) total time=   2.0s\n",
      "[CV 4/5] END ..max_depth=10;, score=(train=1.000, test=1.000) total time=   2.8s\n",
      "[CV 5/5] END ..max_depth=10;, score=(train=1.000, test=1.000) total time=   1.9s\n",
      "[CV 1/5] END ..max_depth=20;, score=(train=1.000, test=1.000) total time=   2.4s\n",
      "[CV 2/5] END ..max_depth=20;, score=(train=1.000, test=1.000) total time=   1.9s\n",
      "[CV 3/5] END ..max_depth=20;, score=(train=1.000, test=1.000) total time=   1.9s\n",
      "[CV 4/5] END ..max_depth=20;, score=(train=1.000, test=1.000) total time=   2.4s\n",
      "[CV 5/5] END ..max_depth=20;, score=(train=1.000, test=1.000) total time=   1.9s\n",
      "finish modeling decision tree\n",
      "\n",
      "start modeling random forest\n",
      "Fitting 5 folds for each of 2 candidates, totalling 10 fits\n",
      "[CV 1/5] END n_estimators=100;, score=(train=1.000, test=1.000) total time= 1.7min\n",
      "[CV 2/5] END n_estimators=100;, score=(train=1.000, test=1.000) total time= 1.5min\n",
      "[CV 3/5] END n_estimators=100;, score=(train=1.000, test=1.000) total time= 1.6min\n",
      "[CV 4/5] END n_estimators=100;, score=(train=1.000, test=1.000) total time= 1.5min\n",
      "[CV 5/5] END n_estimators=100;, score=(train=1.000, test=1.000) total time= 1.5min\n",
      "[CV 1/5] END n_estimators=300;, score=(train=1.000, test=1.000) total time= 4.8min\n",
      "[CV 2/5] END n_estimators=300;, score=(train=1.000, test=1.000) total time= 4.7min\n",
      "[CV 3/5] END n_estimators=300;, score=(train=1.000, test=1.000) total time= 5.0min\n",
      "[CV 4/5] END n_estimators=300;, score=(train=1.000, test=1.000) total time= 5.1min\n",
      "[CV 5/5] END n_estimators=300;, score=(train=1.000, test=1.000) total time= 5.1min\n",
      "finish modeling random forest\n",
      "\n"
     ]
    }
   ],
   "source": [
    "#Hyperparameter Tuning\n",
    "# Perform modeling\n",
    "models = []\n",
    "auc_trains = []\n",
    "auc_tests = []\n",
    "best_params = []\n",
    "\n",
    "for model_name in model_dict.keys():\n",
    "    # Log\n",
    "    print('start modeling', model_name)\n",
    "\n",
    "    cv_ = GridSearchCV(estimator = model_dict[model_name],\n",
    "                       param_grid = hyperparam_dict[model_name],\n",
    "                       cv = 5,\n",
    "                       scoring = 'roc_auc',\n",
    "                       return_train_score = True,\n",
    "                       verbose = 3)\n",
    "    cv_.fit(X_train, y_train)\n",
    "\n",
    "    auc_trains_ = cv_.cv_results_['mean_train_score'][0]\n",
    "    auc_tests_ = cv_.best_score_\n",
    "    best_params_ = cv_.best_params_\n",
    "\n",
    "    # append\n",
    "    models.append(model_name)\n",
    "    auc_trains.append(auc_trains_)\n",
    "    auc_tests.append(auc_tests_)\n",
    "    best_params.append(best_params_)\n",
    "\n",
    "    # log\n",
    "    print('finish modeling', model_name)\n",
    "    print('')\n"
   ]
  },
  {
   "cell_type": "code",
   "execution_count": 29,
   "id": "a3808aa2",
   "metadata": {},
   "outputs": [
    {
     "data": {
      "text/html": [
       "<div>\n",
       "<style scoped>\n",
       "    .dataframe tbody tr th:only-of-type {\n",
       "        vertical-align: middle;\n",
       "    }\n",
       "\n",
       "    .dataframe tbody tr th {\n",
       "        vertical-align: top;\n",
       "    }\n",
       "\n",
       "    .dataframe thead th {\n",
       "        text-align: right;\n",
       "    }\n",
       "</style>\n",
       "<table border=\"1\" class=\"dataframe\">\n",
       "  <thead>\n",
       "    <tr style=\"text-align: right;\">\n",
       "      <th></th>\n",
       "      <th>model</th>\n",
       "      <th>AUC train</th>\n",
       "      <th>AUC test</th>\n",
       "      <th>Best param</th>\n",
       "    </tr>\n",
       "  </thead>\n",
       "  <tbody>\n",
       "    <tr>\n",
       "      <th>0</th>\n",
       "      <td>baseline</td>\n",
       "      <td>0.500000</td>\n",
       "      <td>0.500000</td>\n",
       "      <td>{'strategy': 'most_frequent'}</td>\n",
       "    </tr>\n",
       "    <tr>\n",
       "      <th>1</th>\n",
       "      <td>logistic regression</td>\n",
       "      <td>0.966295</td>\n",
       "      <td>0.966211</td>\n",
       "      <td>{}</td>\n",
       "    </tr>\n",
       "    <tr>\n",
       "      <th>2</th>\n",
       "      <td>decision tree</td>\n",
       "      <td>0.999947</td>\n",
       "      <td>0.999891</td>\n",
       "      <td>{'max_depth': 10}</td>\n",
       "    </tr>\n",
       "    <tr>\n",
       "      <th>3</th>\n",
       "      <td>random forest</td>\n",
       "      <td>1.000000</td>\n",
       "      <td>1.000000</td>\n",
       "      <td>{'n_estimators': 300}</td>\n",
       "    </tr>\n",
       "  </tbody>\n",
       "</table>\n",
       "</div>"
      ],
      "text/plain": [
       "                 model  AUC train  AUC test                     Best param\n",
       "0             baseline   0.500000  0.500000  {'strategy': 'most_frequent'}\n",
       "1  logistic regression   0.966295  0.966211                             {}\n",
       "2        decision tree   0.999947  0.999891              {'max_depth': 10}\n",
       "3        random forest   1.000000  1.000000          {'n_estimators': 300}"
      ]
     },
     "execution_count": 29,
     "metadata": {},
     "output_type": "execute_result"
    }
   ],
   "source": [
    "#Best Parameters\n",
    "summ_exp = pd.DataFrame(\n",
    "    {'model': models,\n",
    "     'AUC train': auc_trains,\n",
    "     'AUC test': auc_tests,\n",
    "     'Best param': best_params}\n",
    ")\n",
    "\n",
    "summ_exp\n"
   ]
  },
  {
   "cell_type": "code",
   "execution_count": 30,
   "id": "114a06c7",
   "metadata": {},
   "outputs": [
    {
     "name": "stderr",
     "output_type": "stream",
     "text": [
      "C:\\Users\\drawy\\anaconda3\\envs\\statistic_env\\lib\\site-packages\\sklearn\\linear_model\\_logistic.py:460: ConvergenceWarning: lbfgs failed to converge (status=1):\n",
      "STOP: TOTAL NO. of ITERATIONS REACHED LIMIT.\n",
      "\n",
      "Increase the number of iterations (max_iter) or scale the data as shown in:\n",
      "    https://scikit-learn.org/stable/modules/preprocessing.html\n",
      "Please also refer to the documentation for alternative solver options:\n",
      "    https://scikit-learn.org/stable/modules/linear_model.html#logistic-regression\n",
      "  n_iter_i = _check_optimize_result(\n"
     ]
    },
    {
     "data": {
      "text/html": [
       "<style>#sk-container-id-1 {color: black;}#sk-container-id-1 pre{padding: 0;}#sk-container-id-1 div.sk-toggleable {background-color: white;}#sk-container-id-1 label.sk-toggleable__label {cursor: pointer;display: block;width: 100%;margin-bottom: 0;padding: 0.3em;box-sizing: border-box;text-align: center;}#sk-container-id-1 label.sk-toggleable__label-arrow:before {content: \"▸\";float: left;margin-right: 0.25em;color: #696969;}#sk-container-id-1 label.sk-toggleable__label-arrow:hover:before {color: black;}#sk-container-id-1 div.sk-estimator:hover label.sk-toggleable__label-arrow:before {color: black;}#sk-container-id-1 div.sk-toggleable__content {max-height: 0;max-width: 0;overflow: hidden;text-align: left;background-color: #f0f8ff;}#sk-container-id-1 div.sk-toggleable__content pre {margin: 0.2em;color: black;border-radius: 0.25em;background-color: #f0f8ff;}#sk-container-id-1 input.sk-toggleable__control:checked~div.sk-toggleable__content {max-height: 200px;max-width: 100%;overflow: auto;}#sk-container-id-1 input.sk-toggleable__control:checked~label.sk-toggleable__label-arrow:before {content: \"▾\";}#sk-container-id-1 div.sk-estimator input.sk-toggleable__control:checked~label.sk-toggleable__label {background-color: #d4ebff;}#sk-container-id-1 div.sk-label input.sk-toggleable__control:checked~label.sk-toggleable__label {background-color: #d4ebff;}#sk-container-id-1 input.sk-hidden--visually {border: 0;clip: rect(1px 1px 1px 1px);clip: rect(1px, 1px, 1px, 1px);height: 1px;margin: -1px;overflow: hidden;padding: 0;position: absolute;width: 1px;}#sk-container-id-1 div.sk-estimator {font-family: monospace;background-color: #f0f8ff;border: 1px dotted black;border-radius: 0.25em;box-sizing: border-box;margin-bottom: 0.5em;}#sk-container-id-1 div.sk-estimator:hover {background-color: #d4ebff;}#sk-container-id-1 div.sk-parallel-item::after {content: \"\";width: 100%;border-bottom: 1px solid gray;flex-grow: 1;}#sk-container-id-1 div.sk-label:hover label.sk-toggleable__label {background-color: #d4ebff;}#sk-container-id-1 div.sk-serial::before {content: \"\";position: absolute;border-left: 1px solid gray;box-sizing: border-box;top: 0;bottom: 0;left: 50%;z-index: 0;}#sk-container-id-1 div.sk-serial {display: flex;flex-direction: column;align-items: center;background-color: white;padding-right: 0.2em;padding-left: 0.2em;position: relative;}#sk-container-id-1 div.sk-item {position: relative;z-index: 1;}#sk-container-id-1 div.sk-parallel {display: flex;align-items: stretch;justify-content: center;background-color: white;position: relative;}#sk-container-id-1 div.sk-item::before, #sk-container-id-1 div.sk-parallel-item::before {content: \"\";position: absolute;border-left: 1px solid gray;box-sizing: border-box;top: 0;bottom: 0;left: 50%;z-index: -1;}#sk-container-id-1 div.sk-parallel-item {display: flex;flex-direction: column;z-index: 1;position: relative;background-color: white;}#sk-container-id-1 div.sk-parallel-item:first-child::after {align-self: flex-end;width: 50%;}#sk-container-id-1 div.sk-parallel-item:last-child::after {align-self: flex-start;width: 50%;}#sk-container-id-1 div.sk-parallel-item:only-child::after {width: 0;}#sk-container-id-1 div.sk-dashed-wrapped {border: 1px dashed gray;margin: 0 0.4em 0.5em 0.4em;box-sizing: border-box;padding-bottom: 0.4em;background-color: white;}#sk-container-id-1 div.sk-label label {font-family: monospace;font-weight: bold;display: inline-block;line-height: 1.2em;}#sk-container-id-1 div.sk-label-container {text-align: center;}#sk-container-id-1 div.sk-container {/* jupyter's `normalize.less` sets `[hidden] { display: none; }` but bootstrap.min.css set `[hidden] { display: none !important; }` so we also need the `!important` here to be able to override the default hidden behavior on the sphinx rendered scikit-learn.org. See: https://github.com/scikit-learn/scikit-learn/issues/21755 */display: inline-block !important;position: relative;}#sk-container-id-1 div.sk-text-repr-fallback {display: none;}</style><div id=\"sk-container-id-1\" class=\"sk-top-container\"><div class=\"sk-text-repr-fallback\"><pre>RandomForestClassifier(n_estimators=300)</pre><b>In a Jupyter environment, please rerun this cell to show the HTML representation or trust the notebook. <br />On GitHub, the HTML representation is unable to render, please try loading this page with nbviewer.org.</b></div><div class=\"sk-container\" hidden><div class=\"sk-item\"><div class=\"sk-estimator sk-toggleable\"><input class=\"sk-toggleable__control sk-hidden--visually\" id=\"sk-estimator-id-1\" type=\"checkbox\" checked><label for=\"sk-estimator-id-1\" class=\"sk-toggleable__label sk-toggleable__label-arrow\">RandomForestClassifier</label><div class=\"sk-toggleable__content\"><pre>RandomForestClassifier(n_estimators=300)</pre></div></div></div></div></div>"
      ],
      "text/plain": [
       "RandomForestClassifier(n_estimators=300)"
      ]
     },
     "execution_count": 30,
     "metadata": {},
     "output_type": "execute_result"
    }
   ],
   "source": [
    "#Retraining model with best hyperparameters\n",
    "lr_best = LogisticRegression()\n",
    "lr_best.fit(X_train, y_train)\n",
    "\n",
    "dt_best = DecisionTreeClassifier(max_depth = 10)\n",
    "dt_best.fit(X_train, y_train)\n",
    "\n",
    "rf_best = RandomForestClassifier(n_estimators = 300)\n",
    "rf_best.fit(X_train, y_train)\n"
   ]
  },
  {
   "cell_type": "code",
   "execution_count": 31,
   "id": "20d322ba",
   "metadata": {},
   "outputs": [],
   "source": [
    "#Create Models on RUS Dataset (balanced data)\n",
    "#Define model & hyperparameter\n",
    "model_dict = {\n",
    "    'baseline': DummyClassifier(),\n",
    "    'logistic regression': LogisticRegression(),\n",
    "    'decision tree': DecisionTreeClassifier(random_state=42),\n",
    "    'random forest': RandomForestClassifier(random_state=42)\n",
    "}\n",
    "\n",
    "hyperparam_dict = {\n",
    "    'baseline': {'strategy':['most_frequent']},\n",
    "    'logistic regression': {},\n",
    "    'decision tree': {'max_depth': [5, 10, 20]},\n",
    "    'random forest': {'n_estimators': [100, 300]}\n",
    "}\n",
    "\n"
   ]
  },
  {
   "cell_type": "code",
   "execution_count": 59,
   "id": "7eebc20d",
   "metadata": {},
   "outputs": [
    {
     "name": "stdout",
     "output_type": "stream",
     "text": [
      "start modeling baseline\n",
      "Fitting 5 folds for each of 1 candidates, totalling 5 fits\n",
      "[CV 1/5] END strategy=most_frequent;, score=(train=0.500, test=0.500) total time=   0.0s\n",
      "[CV 2/5] END strategy=most_frequent;, score=(train=0.500, test=0.500) total time=   0.0s\n",
      "[CV 3/5] END strategy=most_frequent;, score=(train=0.500, test=0.500) total time=   0.0s\n",
      "[CV 4/5] END strategy=most_frequent;, score=(train=0.500, test=0.500) total time=   0.0s\n",
      "[CV 5/5] END strategy=most_frequent;, score=(train=0.500, test=0.500) total time=   0.0s\n",
      "finish modeling baseline\n",
      "\n",
      "start modeling logistic regression\n",
      "Fitting 5 folds for each of 1 candidates, totalling 5 fits\n"
     ]
    },
    {
     "name": "stderr",
     "output_type": "stream",
     "text": [
      "C:\\Users\\drawy\\anaconda3\\envs\\statistic_env\\lib\\site-packages\\sklearn\\linear_model\\_logistic.py:460: ConvergenceWarning: lbfgs failed to converge (status=1):\n",
      "STOP: TOTAL NO. of ITERATIONS REACHED LIMIT.\n",
      "\n",
      "Increase the number of iterations (max_iter) or scale the data as shown in:\n",
      "    https://scikit-learn.org/stable/modules/preprocessing.html\n",
      "Please also refer to the documentation for alternative solver options:\n",
      "    https://scikit-learn.org/stable/modules/linear_model.html#logistic-regression\n",
      "  n_iter_i = _check_optimize_result(\n"
     ]
    },
    {
     "name": "stdout",
     "output_type": "stream",
     "text": [
      "[CV 1/5] END ..............., score=(train=0.978, test=0.979) total time=   0.5s\n"
     ]
    },
    {
     "name": "stderr",
     "output_type": "stream",
     "text": [
      "C:\\Users\\drawy\\anaconda3\\envs\\statistic_env\\lib\\site-packages\\sklearn\\linear_model\\_logistic.py:460: ConvergenceWarning: lbfgs failed to converge (status=1):\n",
      "STOP: TOTAL NO. of ITERATIONS REACHED LIMIT.\n",
      "\n",
      "Increase the number of iterations (max_iter) or scale the data as shown in:\n",
      "    https://scikit-learn.org/stable/modules/preprocessing.html\n",
      "Please also refer to the documentation for alternative solver options:\n",
      "    https://scikit-learn.org/stable/modules/linear_model.html#logistic-regression\n",
      "  n_iter_i = _check_optimize_result(\n"
     ]
    },
    {
     "name": "stdout",
     "output_type": "stream",
     "text": [
      "[CV 2/5] END ..............., score=(train=0.978, test=0.976) total time=   0.5s\n"
     ]
    },
    {
     "name": "stderr",
     "output_type": "stream",
     "text": [
      "C:\\Users\\drawy\\anaconda3\\envs\\statistic_env\\lib\\site-packages\\sklearn\\linear_model\\_logistic.py:460: ConvergenceWarning: lbfgs failed to converge (status=1):\n",
      "STOP: TOTAL NO. of ITERATIONS REACHED LIMIT.\n",
      "\n",
      "Increase the number of iterations (max_iter) or scale the data as shown in:\n",
      "    https://scikit-learn.org/stable/modules/preprocessing.html\n",
      "Please also refer to the documentation for alternative solver options:\n",
      "    https://scikit-learn.org/stable/modules/linear_model.html#logistic-regression\n",
      "  n_iter_i = _check_optimize_result(\n"
     ]
    },
    {
     "name": "stdout",
     "output_type": "stream",
     "text": [
      "[CV 3/5] END ..............., score=(train=0.979, test=0.978) total time=   0.5s\n",
      "[CV 4/5] END ..............., score=(train=0.979, test=0.978) total time=   0.6s\n"
     ]
    },
    {
     "name": "stderr",
     "output_type": "stream",
     "text": [
      "C:\\Users\\drawy\\anaconda3\\envs\\statistic_env\\lib\\site-packages\\sklearn\\linear_model\\_logistic.py:460: ConvergenceWarning: lbfgs failed to converge (status=1):\n",
      "STOP: TOTAL NO. of ITERATIONS REACHED LIMIT.\n",
      "\n",
      "Increase the number of iterations (max_iter) or scale the data as shown in:\n",
      "    https://scikit-learn.org/stable/modules/preprocessing.html\n",
      "Please also refer to the documentation for alternative solver options:\n",
      "    https://scikit-learn.org/stable/modules/linear_model.html#logistic-regression\n",
      "  n_iter_i = _check_optimize_result(\n"
     ]
    },
    {
     "name": "stdout",
     "output_type": "stream",
     "text": [
      "[CV 5/5] END ..............., score=(train=0.978, test=0.979) total time=   0.6s\n"
     ]
    },
    {
     "name": "stderr",
     "output_type": "stream",
     "text": [
      "C:\\Users\\drawy\\anaconda3\\envs\\statistic_env\\lib\\site-packages\\sklearn\\linear_model\\_logistic.py:460: ConvergenceWarning: lbfgs failed to converge (status=1):\n",
      "STOP: TOTAL NO. of ITERATIONS REACHED LIMIT.\n",
      "\n",
      "Increase the number of iterations (max_iter) or scale the data as shown in:\n",
      "    https://scikit-learn.org/stable/modules/preprocessing.html\n",
      "Please also refer to the documentation for alternative solver options:\n",
      "    https://scikit-learn.org/stable/modules/linear_model.html#logistic-regression\n",
      "  n_iter_i = _check_optimize_result(\n"
     ]
    },
    {
     "name": "stdout",
     "output_type": "stream",
     "text": [
      "finish modeling logistic regression\n",
      "\n",
      "start modeling decision tree\n",
      "Fitting 5 folds for each of 3 candidates, totalling 15 fits\n",
      "[CV 1/5] END ...max_depth=5;, score=(train=1.000, test=1.000) total time=   0.3s\n",
      "[CV 2/5] END ...max_depth=5;, score=(train=1.000, test=1.000) total time=   0.3s\n",
      "[CV 3/5] END ...max_depth=5;, score=(train=1.000, test=1.000) total time=   0.3s\n",
      "[CV 4/5] END ...max_depth=5;, score=(train=1.000, test=1.000) total time=   0.3s\n",
      "[CV 5/5] END ...max_depth=5;, score=(train=1.000, test=1.000) total time=   0.3s\n",
      "[CV 1/5] END ..max_depth=10;, score=(train=1.000, test=1.000) total time=   0.3s\n",
      "[CV 2/5] END ..max_depth=10;, score=(train=1.000, test=1.000) total time=   0.3s\n",
      "[CV 3/5] END ..max_depth=10;, score=(train=1.000, test=1.000) total time=   0.2s\n",
      "[CV 4/5] END ..max_depth=10;, score=(train=1.000, test=1.000) total time=   0.3s\n",
      "[CV 5/5] END ..max_depth=10;, score=(train=1.000, test=1.000) total time=   0.3s\n",
      "[CV 1/5] END ..max_depth=20;, score=(train=1.000, test=1.000) total time=   0.2s\n",
      "[CV 2/5] END ..max_depth=20;, score=(train=1.000, test=1.000) total time=   0.2s\n",
      "[CV 3/5] END ..max_depth=20;, score=(train=1.000, test=1.000) total time=   0.2s\n",
      "[CV 4/5] END ..max_depth=20;, score=(train=1.000, test=1.000) total time=   0.2s\n",
      "[CV 5/5] END ..max_depth=20;, score=(train=1.000, test=1.000) total time=   0.2s\n",
      "finish modeling decision tree\n",
      "\n",
      "start modeling random forest\n",
      "Fitting 5 folds for each of 2 candidates, totalling 10 fits\n",
      "[CV 1/5] END n_estimators=100;, score=(train=1.000, test=1.000) total time=  14.3s\n",
      "[CV 2/5] END n_estimators=100;, score=(train=1.000, test=1.000) total time=  14.1s\n",
      "[CV 3/5] END n_estimators=100;, score=(train=1.000, test=1.000) total time=  14.0s\n",
      "[CV 4/5] END n_estimators=100;, score=(train=1.000, test=1.000) total time=  14.1s\n",
      "[CV 5/5] END n_estimators=100;, score=(train=1.000, test=1.000) total time=  13.8s\n",
      "[CV 1/5] END n_estimators=300;, score=(train=1.000, test=1.000) total time=  42.0s\n",
      "[CV 2/5] END n_estimators=300;, score=(train=1.000, test=1.000) total time=  43.5s\n",
      "[CV 3/5] END n_estimators=300;, score=(train=1.000, test=1.000) total time=  41.4s\n",
      "[CV 4/5] END n_estimators=300;, score=(train=1.000, test=1.000) total time=  42.0s\n",
      "[CV 5/5] END n_estimators=300;, score=(train=1.000, test=1.000) total time=  42.8s\n",
      "finish modeling random forest\n",
      "\n"
     ]
    }
   ],
   "source": [
    "#Hyperparameter tuning\n",
    "# Perform modeling\n",
    "models = []\n",
    "auc_trains = []\n",
    "auc_tests = []\n",
    "best_params = []\n",
    "\n",
    "for model_name in model_dict.keys():\n",
    "    # Log\n",
    "    print('start modeling', model_name)\n",
    "\n",
    "    cv_ = GridSearchCV(estimator = model_dict[model_name],\n",
    "                       param_grid = hyperparam_dict[model_name],\n",
    "                       cv = 5,\n",
    "                       scoring = 'roc_auc',\n",
    "                       return_train_score = True,\n",
    "                       verbose = 3)\n",
    "    cv_.fit(x_rus, y_rus)\n",
    "\n",
    "    auc_trains_ = cv_.cv_results_['mean_train_score'][0]\n",
    "    auc_tests_ = cv_.best_score_\n",
    "    best_params_ = cv_.best_params_\n",
    "\n",
    "    # append\n",
    "    models.append(model_name)\n",
    "    auc_trains.append(auc_trains_)\n",
    "    auc_tests.append(auc_tests_)\n",
    "    best_params.append(best_params_)\n",
    "\n",
    "    # log\n",
    "    print('finish modeling', model_name)\n",
    "    print('')"
   ]
  },
  {
   "cell_type": "code",
   "execution_count": 60,
   "id": "b907ace9",
   "metadata": {},
   "outputs": [
    {
     "data": {
      "text/html": [
       "<div>\n",
       "<style scoped>\n",
       "    .dataframe tbody tr th:only-of-type {\n",
       "        vertical-align: middle;\n",
       "    }\n",
       "\n",
       "    .dataframe tbody tr th {\n",
       "        vertical-align: top;\n",
       "    }\n",
       "\n",
       "    .dataframe thead th {\n",
       "        text-align: right;\n",
       "    }\n",
       "</style>\n",
       "<table border=\"1\" class=\"dataframe\">\n",
       "  <thead>\n",
       "    <tr style=\"text-align: right;\">\n",
       "      <th></th>\n",
       "      <th>model</th>\n",
       "      <th>AUC train</th>\n",
       "      <th>AUC test</th>\n",
       "      <th>Best param</th>\n",
       "    </tr>\n",
       "  </thead>\n",
       "  <tbody>\n",
       "    <tr>\n",
       "      <th>0</th>\n",
       "      <td>baseline</td>\n",
       "      <td>0.500000</td>\n",
       "      <td>0.500000</td>\n",
       "      <td>{'strategy': 'most_frequent'}</td>\n",
       "    </tr>\n",
       "    <tr>\n",
       "      <th>1</th>\n",
       "      <td>logistic regression</td>\n",
       "      <td>0.978265</td>\n",
       "      <td>0.978101</td>\n",
       "      <td>{}</td>\n",
       "    </tr>\n",
       "    <tr>\n",
       "      <th>2</th>\n",
       "      <td>decision tree</td>\n",
       "      <td>0.999976</td>\n",
       "      <td>0.999924</td>\n",
       "      <td>{'max_depth': 10}</td>\n",
       "    </tr>\n",
       "    <tr>\n",
       "      <th>3</th>\n",
       "      <td>random forest</td>\n",
       "      <td>1.000000</td>\n",
       "      <td>1.000000</td>\n",
       "      <td>{'n_estimators': 300}</td>\n",
       "    </tr>\n",
       "  </tbody>\n",
       "</table>\n",
       "</div>"
      ],
      "text/plain": [
       "                 model  AUC train  AUC test                     Best param\n",
       "0             baseline   0.500000  0.500000  {'strategy': 'most_frequent'}\n",
       "1  logistic regression   0.978265  0.978101                             {}\n",
       "2        decision tree   0.999976  0.999924              {'max_depth': 10}\n",
       "3        random forest   1.000000  1.000000          {'n_estimators': 300}"
      ]
     },
     "execution_count": 60,
     "metadata": {},
     "output_type": "execute_result"
    }
   ],
   "source": [
    "#Best Parameters\n",
    "summ_exp = pd.DataFrame(\n",
    "    {'model': models,\n",
    "     'AUC train': auc_trains,\n",
    "     'AUC test': auc_tests,\n",
    "     'Best param': best_params}\n",
    ")\n",
    "\n",
    "summ_exp\n"
   ]
  },
  {
   "cell_type": "code",
   "execution_count": 61,
   "id": "23ae300c",
   "metadata": {},
   "outputs": [
    {
     "name": "stderr",
     "output_type": "stream",
     "text": [
      "C:\\Users\\drawy\\anaconda3\\envs\\statistic_env\\lib\\site-packages\\sklearn\\linear_model\\_logistic.py:460: ConvergenceWarning: lbfgs failed to converge (status=1):\n",
      "STOP: TOTAL NO. of ITERATIONS REACHED LIMIT.\n",
      "\n",
      "Increase the number of iterations (max_iter) or scale the data as shown in:\n",
      "    https://scikit-learn.org/stable/modules/preprocessing.html\n",
      "Please also refer to the documentation for alternative solver options:\n",
      "    https://scikit-learn.org/stable/modules/linear_model.html#logistic-regression\n",
      "  n_iter_i = _check_optimize_result(\n"
     ]
    },
    {
     "data": {
      "text/html": [
       "<style>#sk-container-id-3 {color: black;}#sk-container-id-3 pre{padding: 0;}#sk-container-id-3 div.sk-toggleable {background-color: white;}#sk-container-id-3 label.sk-toggleable__label {cursor: pointer;display: block;width: 100%;margin-bottom: 0;padding: 0.3em;box-sizing: border-box;text-align: center;}#sk-container-id-3 label.sk-toggleable__label-arrow:before {content: \"▸\";float: left;margin-right: 0.25em;color: #696969;}#sk-container-id-3 label.sk-toggleable__label-arrow:hover:before {color: black;}#sk-container-id-3 div.sk-estimator:hover label.sk-toggleable__label-arrow:before {color: black;}#sk-container-id-3 div.sk-toggleable__content {max-height: 0;max-width: 0;overflow: hidden;text-align: left;background-color: #f0f8ff;}#sk-container-id-3 div.sk-toggleable__content pre {margin: 0.2em;color: black;border-radius: 0.25em;background-color: #f0f8ff;}#sk-container-id-3 input.sk-toggleable__control:checked~div.sk-toggleable__content {max-height: 200px;max-width: 100%;overflow: auto;}#sk-container-id-3 input.sk-toggleable__control:checked~label.sk-toggleable__label-arrow:before {content: \"▾\";}#sk-container-id-3 div.sk-estimator input.sk-toggleable__control:checked~label.sk-toggleable__label {background-color: #d4ebff;}#sk-container-id-3 div.sk-label input.sk-toggleable__control:checked~label.sk-toggleable__label {background-color: #d4ebff;}#sk-container-id-3 input.sk-hidden--visually {border: 0;clip: rect(1px 1px 1px 1px);clip: rect(1px, 1px, 1px, 1px);height: 1px;margin: -1px;overflow: hidden;padding: 0;position: absolute;width: 1px;}#sk-container-id-3 div.sk-estimator {font-family: monospace;background-color: #f0f8ff;border: 1px dotted black;border-radius: 0.25em;box-sizing: border-box;margin-bottom: 0.5em;}#sk-container-id-3 div.sk-estimator:hover {background-color: #d4ebff;}#sk-container-id-3 div.sk-parallel-item::after {content: \"\";width: 100%;border-bottom: 1px solid gray;flex-grow: 1;}#sk-container-id-3 div.sk-label:hover label.sk-toggleable__label {background-color: #d4ebff;}#sk-container-id-3 div.sk-serial::before {content: \"\";position: absolute;border-left: 1px solid gray;box-sizing: border-box;top: 0;bottom: 0;left: 50%;z-index: 0;}#sk-container-id-3 div.sk-serial {display: flex;flex-direction: column;align-items: center;background-color: white;padding-right: 0.2em;padding-left: 0.2em;position: relative;}#sk-container-id-3 div.sk-item {position: relative;z-index: 1;}#sk-container-id-3 div.sk-parallel {display: flex;align-items: stretch;justify-content: center;background-color: white;position: relative;}#sk-container-id-3 div.sk-item::before, #sk-container-id-3 div.sk-parallel-item::before {content: \"\";position: absolute;border-left: 1px solid gray;box-sizing: border-box;top: 0;bottom: 0;left: 50%;z-index: -1;}#sk-container-id-3 div.sk-parallel-item {display: flex;flex-direction: column;z-index: 1;position: relative;background-color: white;}#sk-container-id-3 div.sk-parallel-item:first-child::after {align-self: flex-end;width: 50%;}#sk-container-id-3 div.sk-parallel-item:last-child::after {align-self: flex-start;width: 50%;}#sk-container-id-3 div.sk-parallel-item:only-child::after {width: 0;}#sk-container-id-3 div.sk-dashed-wrapped {border: 1px dashed gray;margin: 0 0.4em 0.5em 0.4em;box-sizing: border-box;padding-bottom: 0.4em;background-color: white;}#sk-container-id-3 div.sk-label label {font-family: monospace;font-weight: bold;display: inline-block;line-height: 1.2em;}#sk-container-id-3 div.sk-label-container {text-align: center;}#sk-container-id-3 div.sk-container {/* jupyter's `normalize.less` sets `[hidden] { display: none; }` but bootstrap.min.css set `[hidden] { display: none !important; }` so we also need the `!important` here to be able to override the default hidden behavior on the sphinx rendered scikit-learn.org. See: https://github.com/scikit-learn/scikit-learn/issues/21755 */display: inline-block !important;position: relative;}#sk-container-id-3 div.sk-text-repr-fallback {display: none;}</style><div id=\"sk-container-id-3\" class=\"sk-top-container\"><div class=\"sk-text-repr-fallback\"><pre>RandomForestClassifier(n_estimators=300)</pre><b>In a Jupyter environment, please rerun this cell to show the HTML representation or trust the notebook. <br />On GitHub, the HTML representation is unable to render, please try loading this page with nbviewer.org.</b></div><div class=\"sk-container\" hidden><div class=\"sk-item\"><div class=\"sk-estimator sk-toggleable\"><input class=\"sk-toggleable__control sk-hidden--visually\" id=\"sk-estimator-id-3\" type=\"checkbox\" checked><label for=\"sk-estimator-id-3\" class=\"sk-toggleable__label sk-toggleable__label-arrow\">RandomForestClassifier</label><div class=\"sk-toggleable__content\"><pre>RandomForestClassifier(n_estimators=300)</pre></div></div></div></div></div>"
      ],
      "text/plain": [
       "RandomForestClassifier(n_estimators=300)"
      ]
     },
     "execution_count": 61,
     "metadata": {},
     "output_type": "execute_result"
    }
   ],
   "source": [
    "#Retraining model with best hyperparameters\n",
    "dt_best_rus = DecisionTreeClassifier(max_depth = 10)\n",
    "dt_best_rus.fit(x_rus, y_rus)\n",
    "\n",
    "lr_best_rus = LogisticRegression()\n",
    "lr_best_rus.fit(x_rus, y_rus)\n",
    "\n",
    "rf_best_rus = RandomForestClassifier(n_estimators = 300)\n",
    "rf_best_rus.fit(x_rus, y_rus)"
   ]
  },
  {
   "cell_type": "markdown",
   "id": "a6508070",
   "metadata": {},
   "source": [
    "## Detection"
   ]
  },
  {
   "cell_type": "markdown",
   "id": "be63247b",
   "metadata": {},
   "source": [
    "## Perform Detection Modeling"
   ]
  },
  {
   "cell_type": "code",
   "execution_count": 62,
   "id": "cb4332e7",
   "metadata": {},
   "outputs": [
    {
     "data": {
      "text/html": [
       "<div>\n",
       "<style scoped>\n",
       "    .dataframe tbody tr th:only-of-type {\n",
       "        vertical-align: middle;\n",
       "    }\n",
       "\n",
       "    .dataframe tbody tr th {\n",
       "        vertical-align: top;\n",
       "    }\n",
       "\n",
       "    .dataframe thead th {\n",
       "        text-align: right;\n",
       "    }\n",
       "</style>\n",
       "<table border=\"1\" class=\"dataframe\">\n",
       "  <thead>\n",
       "    <tr style=\"text-align: right;\">\n",
       "      <th></th>\n",
       "      <th>Logistic Regression</th>\n",
       "      <th>Decision Tree</th>\n",
       "      <th>Random Forest</th>\n",
       "    </tr>\n",
       "  </thead>\n",
       "  <tbody>\n",
       "    <tr>\n",
       "      <th>Original</th>\n",
       "      <td>NaN</td>\n",
       "      <td>NaN</td>\n",
       "      <td>NaN</td>\n",
       "    </tr>\n",
       "    <tr>\n",
       "      <th>RUS</th>\n",
       "      <td>NaN</td>\n",
       "      <td>NaN</td>\n",
       "      <td>NaN</td>\n",
       "    </tr>\n",
       "  </tbody>\n",
       "</table>\n",
       "</div>"
      ],
      "text/plain": [
       "         Logistic Regression Decision Tree Random Forest\n",
       "Original                 NaN           NaN           NaN\n",
       "RUS                      NaN           NaN           NaN"
      ]
     },
     "execution_count": 62,
     "metadata": {},
     "output_type": "execute_result"
    }
   ],
   "source": [
    "# Create list of models and training dataset types\n",
    "model = [\"Logistic Regression\",\n",
    "         \"Decision Tree\", \"Random Forest\"]\n",
    "\n",
    "training_set = [\"Original\",\"RUS\"]\n",
    "\n",
    "# Create AUC score table using pandas dataframe\n",
    "auc_valid = pd.DataFrame(index = training_set, columns = model)\n",
    "auc_valid"
   ]
  },
  {
   "cell_type": "code",
   "execution_count": 101,
   "id": "de1ef657",
   "metadata": {},
   "outputs": [],
   "source": [
    "#Create function auc score\n",
    "def auc(model, X, y_act):\n",
    "  # Perform detection and calculate auc score\n",
    "\n",
    "  y_det = model.predict(X)\n",
    "  auc_score = roc_auc_score(y_act, y_det)\n",
    "\n",
    "  return auc_score"
   ]
  },
  {
   "cell_type": "markdown",
   "id": "83814649",
   "metadata": {},
   "source": [
    "### Data AUC of Original Training Set"
   ]
  },
  {
   "cell_type": "markdown",
   "id": "3036be78",
   "metadata": {},
   "source": [
    "Logistic Regression"
   ]
  },
  {
   "cell_type": "code",
   "execution_count": 102,
   "id": "150d513d",
   "metadata": {},
   "outputs": [
    {
     "data": {
      "text/html": [
       "<div>\n",
       "<style scoped>\n",
       "    .dataframe tbody tr th:only-of-type {\n",
       "        vertical-align: middle;\n",
       "    }\n",
       "\n",
       "    .dataframe tbody tr th {\n",
       "        vertical-align: top;\n",
       "    }\n",
       "\n",
       "    .dataframe thead th {\n",
       "        text-align: right;\n",
       "    }\n",
       "</style>\n",
       "<table border=\"1\" class=\"dataframe\">\n",
       "  <thead>\n",
       "    <tr style=\"text-align: right;\">\n",
       "      <th></th>\n",
       "      <th>Logistic Regression</th>\n",
       "      <th>Decision Tree</th>\n",
       "      <th>Random Forest</th>\n",
       "    </tr>\n",
       "  </thead>\n",
       "  <tbody>\n",
       "    <tr>\n",
       "      <th>Original</th>\n",
       "      <td>0.797889</td>\n",
       "      <td>0.999854</td>\n",
       "      <td>0.999886</td>\n",
       "    </tr>\n",
       "    <tr>\n",
       "      <th>RUS</th>\n",
       "      <td>0.94018</td>\n",
       "      <td>0.999863</td>\n",
       "      <td>0.999895</td>\n",
       "    </tr>\n",
       "  </tbody>\n",
       "</table>\n",
       "</div>"
      ],
      "text/plain": [
       "         Logistic Regression Decision Tree Random Forest\n",
       "Original            0.797889      0.999854      0.999886\n",
       "RUS                  0.94018      0.999863      0.999895"
      ]
     },
     "execution_count": 102,
     "metadata": {},
     "output_type": "execute_result"
    }
   ],
   "source": [
    "auc_valid.loc[\"Original\", \"Logistic Regression\"] = auc(lr_best, X_valid, y_valid)\n",
    "auc_valid"
   ]
  },
  {
   "cell_type": "markdown",
   "id": "f35c93ba",
   "metadata": {},
   "source": [
    "Decision Tree"
   ]
  },
  {
   "cell_type": "code",
   "execution_count": 103,
   "id": "034225b9",
   "metadata": {},
   "outputs": [
    {
     "data": {
      "text/html": [
       "<div>\n",
       "<style scoped>\n",
       "    .dataframe tbody tr th:only-of-type {\n",
       "        vertical-align: middle;\n",
       "    }\n",
       "\n",
       "    .dataframe tbody tr th {\n",
       "        vertical-align: top;\n",
       "    }\n",
       "\n",
       "    .dataframe thead th {\n",
       "        text-align: right;\n",
       "    }\n",
       "</style>\n",
       "<table border=\"1\" class=\"dataframe\">\n",
       "  <thead>\n",
       "    <tr style=\"text-align: right;\">\n",
       "      <th></th>\n",
       "      <th>Logistic Regression</th>\n",
       "      <th>Decision Tree</th>\n",
       "      <th>Random Forest</th>\n",
       "    </tr>\n",
       "  </thead>\n",
       "  <tbody>\n",
       "    <tr>\n",
       "      <th>Original</th>\n",
       "      <td>0.797889</td>\n",
       "      <td>0.999854</td>\n",
       "      <td>0.999886</td>\n",
       "    </tr>\n",
       "    <tr>\n",
       "      <th>RUS</th>\n",
       "      <td>0.94018</td>\n",
       "      <td>0.999863</td>\n",
       "      <td>0.999895</td>\n",
       "    </tr>\n",
       "  </tbody>\n",
       "</table>\n",
       "</div>"
      ],
      "text/plain": [
       "         Logistic Regression Decision Tree Random Forest\n",
       "Original            0.797889      0.999854      0.999886\n",
       "RUS                  0.94018      0.999863      0.999895"
      ]
     },
     "execution_count": 103,
     "metadata": {},
     "output_type": "execute_result"
    }
   ],
   "source": [
    "auc_valid.loc[\"Original\", \"Decision Tree\"] = auc(dt_best, X_valid, y_valid)\n",
    "auc_valid"
   ]
  },
  {
   "cell_type": "markdown",
   "id": "9669535d",
   "metadata": {},
   "source": [
    "Random Forest"
   ]
  },
  {
   "cell_type": "code",
   "execution_count": 104,
   "id": "7f7aa6c1",
   "metadata": {},
   "outputs": [
    {
     "data": {
      "text/html": [
       "<div>\n",
       "<style scoped>\n",
       "    .dataframe tbody tr th:only-of-type {\n",
       "        vertical-align: middle;\n",
       "    }\n",
       "\n",
       "    .dataframe tbody tr th {\n",
       "        vertical-align: top;\n",
       "    }\n",
       "\n",
       "    .dataframe thead th {\n",
       "        text-align: right;\n",
       "    }\n",
       "</style>\n",
       "<table border=\"1\" class=\"dataframe\">\n",
       "  <thead>\n",
       "    <tr style=\"text-align: right;\">\n",
       "      <th></th>\n",
       "      <th>Logistic Regression</th>\n",
       "      <th>Decision Tree</th>\n",
       "      <th>Random Forest</th>\n",
       "    </tr>\n",
       "  </thead>\n",
       "  <tbody>\n",
       "    <tr>\n",
       "      <th>Original</th>\n",
       "      <td>0.797889</td>\n",
       "      <td>0.999854</td>\n",
       "      <td>0.999886</td>\n",
       "    </tr>\n",
       "    <tr>\n",
       "      <th>RUS</th>\n",
       "      <td>0.94018</td>\n",
       "      <td>0.999863</td>\n",
       "      <td>0.999895</td>\n",
       "    </tr>\n",
       "  </tbody>\n",
       "</table>\n",
       "</div>"
      ],
      "text/plain": [
       "         Logistic Regression Decision Tree Random Forest\n",
       "Original            0.797889      0.999854      0.999886\n",
       "RUS                  0.94018      0.999863      0.999895"
      ]
     },
     "execution_count": 104,
     "metadata": {},
     "output_type": "execute_result"
    }
   ],
   "source": [
    "auc_valid.loc[\"Original\", \"Random Forest\"] = auc(rf_best, X_valid, y_valid)\n",
    "auc_valid"
   ]
  },
  {
   "cell_type": "markdown",
   "id": "409d9dfa",
   "metadata": {},
   "source": [
    "### Data AUC of RUS Training Set"
   ]
  },
  {
   "cell_type": "markdown",
   "id": "4099c68f",
   "metadata": {},
   "source": [
    "Logistic Regression"
   ]
  },
  {
   "cell_type": "code",
   "execution_count": 84,
   "id": "5f3bd437",
   "metadata": {},
   "outputs": [
    {
     "data": {
      "text/html": [
       "<div>\n",
       "<style scoped>\n",
       "    .dataframe tbody tr th:only-of-type {\n",
       "        vertical-align: middle;\n",
       "    }\n",
       "\n",
       "    .dataframe tbody tr th {\n",
       "        vertical-align: top;\n",
       "    }\n",
       "\n",
       "    .dataframe thead th {\n",
       "        text-align: right;\n",
       "    }\n",
       "</style>\n",
       "<table border=\"1\" class=\"dataframe\">\n",
       "  <thead>\n",
       "    <tr style=\"text-align: right;\">\n",
       "      <th></th>\n",
       "      <th>Logistic Regression</th>\n",
       "      <th>Decision Tree</th>\n",
       "      <th>Random Forest</th>\n",
       "    </tr>\n",
       "  </thead>\n",
       "  <tbody>\n",
       "    <tr>\n",
       "      <th>Original</th>\n",
       "      <td>0.797889</td>\n",
       "      <td>0.999854</td>\n",
       "      <td>0.999886</td>\n",
       "    </tr>\n",
       "    <tr>\n",
       "      <th>RUS</th>\n",
       "      <td>0.94018</td>\n",
       "      <td>0.999863</td>\n",
       "      <td>0.999895</td>\n",
       "    </tr>\n",
       "  </tbody>\n",
       "</table>\n",
       "</div>"
      ],
      "text/plain": [
       "         Logistic Regression Decision Tree Random Forest\n",
       "Original            0.797889      0.999854      0.999886\n",
       "RUS                  0.94018      0.999863      0.999895"
      ]
     },
     "execution_count": 84,
     "metadata": {},
     "output_type": "execute_result"
    }
   ],
   "source": [
    "auc_valid.loc[\"RUS\", \"Logistic Regression\"] = auc(lr_best_rus, X_valid, y_valid)\n",
    "auc_valid"
   ]
  },
  {
   "cell_type": "markdown",
   "id": "8b22cb71",
   "metadata": {},
   "source": [
    "Decision Tree"
   ]
  },
  {
   "cell_type": "code",
   "execution_count": 85,
   "id": "a09b9bc6",
   "metadata": {},
   "outputs": [
    {
     "data": {
      "text/html": [
       "<div>\n",
       "<style scoped>\n",
       "    .dataframe tbody tr th:only-of-type {\n",
       "        vertical-align: middle;\n",
       "    }\n",
       "\n",
       "    .dataframe tbody tr th {\n",
       "        vertical-align: top;\n",
       "    }\n",
       "\n",
       "    .dataframe thead th {\n",
       "        text-align: right;\n",
       "    }\n",
       "</style>\n",
       "<table border=\"1\" class=\"dataframe\">\n",
       "  <thead>\n",
       "    <tr style=\"text-align: right;\">\n",
       "      <th></th>\n",
       "      <th>Logistic Regression</th>\n",
       "      <th>Decision Tree</th>\n",
       "      <th>Random Forest</th>\n",
       "    </tr>\n",
       "  </thead>\n",
       "  <tbody>\n",
       "    <tr>\n",
       "      <th>Original</th>\n",
       "      <td>0.797889</td>\n",
       "      <td>0.999854</td>\n",
       "      <td>0.999886</td>\n",
       "    </tr>\n",
       "    <tr>\n",
       "      <th>RUS</th>\n",
       "      <td>0.94018</td>\n",
       "      <td>0.999863</td>\n",
       "      <td>0.999895</td>\n",
       "    </tr>\n",
       "  </tbody>\n",
       "</table>\n",
       "</div>"
      ],
      "text/plain": [
       "         Logistic Regression Decision Tree Random Forest\n",
       "Original            0.797889      0.999854      0.999886\n",
       "RUS                  0.94018      0.999863      0.999895"
      ]
     },
     "execution_count": 85,
     "metadata": {},
     "output_type": "execute_result"
    }
   ],
   "source": [
    "auc_valid.loc[\"RUS\", \"Decision Tree\"] = auc(dt_best_rus, X_valid, y_valid)\n",
    "auc_valid"
   ]
  },
  {
   "cell_type": "markdown",
   "id": "5918aecc",
   "metadata": {},
   "source": [
    "Random Forest"
   ]
  },
  {
   "cell_type": "code",
   "execution_count": 86,
   "id": "31abde10",
   "metadata": {},
   "outputs": [
    {
     "data": {
      "text/html": [
       "<div>\n",
       "<style scoped>\n",
       "    .dataframe tbody tr th:only-of-type {\n",
       "        vertical-align: middle;\n",
       "    }\n",
       "\n",
       "    .dataframe tbody tr th {\n",
       "        vertical-align: top;\n",
       "    }\n",
       "\n",
       "    .dataframe thead th {\n",
       "        text-align: right;\n",
       "    }\n",
       "</style>\n",
       "<table border=\"1\" class=\"dataframe\">\n",
       "  <thead>\n",
       "    <tr style=\"text-align: right;\">\n",
       "      <th></th>\n",
       "      <th>Logistic Regression</th>\n",
       "      <th>Decision Tree</th>\n",
       "      <th>Random Forest</th>\n",
       "    </tr>\n",
       "  </thead>\n",
       "  <tbody>\n",
       "    <tr>\n",
       "      <th>Original</th>\n",
       "      <td>0.797889</td>\n",
       "      <td>0.999854</td>\n",
       "      <td>0.999886</td>\n",
       "    </tr>\n",
       "    <tr>\n",
       "      <th>RUS</th>\n",
       "      <td>0.94018</td>\n",
       "      <td>0.999863</td>\n",
       "      <td>0.999895</td>\n",
       "    </tr>\n",
       "  </tbody>\n",
       "</table>\n",
       "</div>"
      ],
      "text/plain": [
       "         Logistic Regression Decision Tree Random Forest\n",
       "Original            0.797889      0.999854      0.999886\n",
       "RUS                  0.94018      0.999863      0.999895"
      ]
     },
     "execution_count": 86,
     "metadata": {},
     "output_type": "execute_result"
    }
   ],
   "source": [
    "auc_valid.loc[\"RUS\", \"Random Forest\"] = auc(rf_best_rus, X_valid, y_valid)\n",
    "auc_valid"
   ]
  },
  {
   "cell_type": "markdown",
   "id": "a197f387",
   "metadata": {},
   "source": [
    "### Best Model perfomance evaluation"
   ]
  },
  {
   "cell_type": "markdown",
   "id": "072bdbc1",
   "metadata": {},
   "source": [
    "### Best Model on Train Data"
   ]
  },
  {
   "cell_type": "code",
   "execution_count": 105,
   "id": "001fcdff",
   "metadata": {},
   "outputs": [
    {
     "data": {
      "text/plain": [
       "array([0., 0., 0., ..., 0., 0., 0.])"
      ]
     },
     "execution_count": 105,
     "metadata": {},
     "output_type": "execute_result"
    }
   ],
   "source": [
    "y_train_det = rf_best_rus.predict(X_train)\n",
    "y_train_det"
   ]
  },
  {
   "cell_type": "code",
   "execution_count": 106,
   "id": "c3631dbc",
   "metadata": {},
   "outputs": [
    {
     "name": "stdout",
     "output_type": "stream",
     "text": [
      "ROC  : 0.9999397324119088\n"
     ]
    }
   ],
   "source": [
    "roc = roc_auc_score(y_train, y_train_det)\n",
    "\n",
    "print('ROC  :', roc)"
   ]
  },
  {
   "cell_type": "code",
   "execution_count": 107,
   "id": "4fc2b2b2",
   "metadata": {},
   "outputs": [],
   "source": [
    "result  = pd.crosstab(y_train_det,\n",
    "            y_train,\n",
    "            margins = True)"
   ]
  },
  {
   "cell_type": "code",
   "execution_count": 108,
   "id": "362cef46",
   "metadata": {},
   "outputs": [
    {
     "data": {
      "text/html": [
       "<div>\n",
       "<style scoped>\n",
       "    .dataframe tbody tr th:only-of-type {\n",
       "        vertical-align: middle;\n",
       "    }\n",
       "\n",
       "    .dataframe tbody tr th {\n",
       "        vertical-align: top;\n",
       "    }\n",
       "\n",
       "    .dataframe thead th {\n",
       "        text-align: right;\n",
       "    }\n",
       "</style>\n",
       "<table border=\"1\" class=\"dataframe\">\n",
       "  <thead>\n",
       "    <tr style=\"text-align: right;\">\n",
       "      <th>fraud</th>\n",
       "      <th>0.0</th>\n",
       "      <th>1.0</th>\n",
       "      <th>All</th>\n",
       "    </tr>\n",
       "    <tr>\n",
       "      <th>row_0</th>\n",
       "      <th></th>\n",
       "      <th></th>\n",
       "      <th></th>\n",
       "    </tr>\n",
       "  </thead>\n",
       "  <tbody>\n",
       "    <tr>\n",
       "      <th>0.0</th>\n",
       "      <td>547492</td>\n",
       "      <td>0</td>\n",
       "      <td>547492</td>\n",
       "    </tr>\n",
       "    <tr>\n",
       "      <th>1.0</th>\n",
       "      <td>66</td>\n",
       "      <td>52442</td>\n",
       "      <td>52508</td>\n",
       "    </tr>\n",
       "    <tr>\n",
       "      <th>All</th>\n",
       "      <td>547558</td>\n",
       "      <td>52442</td>\n",
       "      <td>600000</td>\n",
       "    </tr>\n",
       "  </tbody>\n",
       "</table>\n",
       "</div>"
      ],
      "text/plain": [
       "fraud     0.0    1.0     All\n",
       "row_0                       \n",
       "0.0    547492      0  547492\n",
       "1.0        66  52442   52508\n",
       "All    547558  52442  600000"
      ]
     },
     "execution_count": 108,
     "metadata": {},
     "output_type": "execute_result"
    }
   ],
   "source": [
    "result"
   ]
  },
  {
   "cell_type": "markdown",
   "id": "5c6ad771",
   "metadata": {},
   "source": [
    "### Best Model on Validation Data"
   ]
  },
  {
   "cell_type": "code",
   "execution_count": 109,
   "id": "c6a4d14e",
   "metadata": {},
   "outputs": [
    {
     "data": {
      "text/plain": [
       "array([0., 0., 0., ..., 0., 1., 0.])"
      ]
     },
     "execution_count": 109,
     "metadata": {},
     "output_type": "execute_result"
    }
   ],
   "source": [
    "y_val_det = rf_best_rus.predict(X_valid)\n",
    "y_val_det"
   ]
  },
  {
   "cell_type": "code",
   "execution_count": 110,
   "id": "31c07564",
   "metadata": {},
   "outputs": [
    {
     "name": "stdout",
     "output_type": "stream",
     "text": [
      "ROC  : 0.9998946931741951\n"
     ]
    }
   ],
   "source": [
    "roc = roc_auc_score(y_valid, y_val_det)\n",
    "\n",
    "print('ROC  :', roc)"
   ]
  },
  {
   "cell_type": "code",
   "execution_count": 111,
   "id": "ecb3936c",
   "metadata": {},
   "outputs": [
    {
     "data": {
      "text/html": [
       "<div>\n",
       "<style scoped>\n",
       "    .dataframe tbody tr th:only-of-type {\n",
       "        vertical-align: middle;\n",
       "    }\n",
       "\n",
       "    .dataframe tbody tr th {\n",
       "        vertical-align: top;\n",
       "    }\n",
       "\n",
       "    .dataframe thead th {\n",
       "        text-align: right;\n",
       "    }\n",
       "</style>\n",
       "<table border=\"1\" class=\"dataframe\">\n",
       "  <thead>\n",
       "    <tr style=\"text-align: right;\">\n",
       "      <th>fraud</th>\n",
       "      <th>0.0</th>\n",
       "      <th>1.0</th>\n",
       "      <th>All</th>\n",
       "    </tr>\n",
       "    <tr>\n",
       "      <th>row_0</th>\n",
       "      <th></th>\n",
       "      <th></th>\n",
       "      <th></th>\n",
       "    </tr>\n",
       "  </thead>\n",
       "  <tbody>\n",
       "    <tr>\n",
       "      <th>0.0</th>\n",
       "      <td>182491</td>\n",
       "      <td>1</td>\n",
       "      <td>182492</td>\n",
       "    </tr>\n",
       "    <tr>\n",
       "      <th>1.0</th>\n",
       "      <td>28</td>\n",
       "      <td>17480</td>\n",
       "      <td>17508</td>\n",
       "    </tr>\n",
       "    <tr>\n",
       "      <th>All</th>\n",
       "      <td>182519</td>\n",
       "      <td>17481</td>\n",
       "      <td>200000</td>\n",
       "    </tr>\n",
       "  </tbody>\n",
       "</table>\n",
       "</div>"
      ],
      "text/plain": [
       "fraud     0.0    1.0     All\n",
       "row_0                       \n",
       "0.0    182491      1  182492\n",
       "1.0        28  17480   17508\n",
       "All    182519  17481  200000"
      ]
     },
     "execution_count": 111,
     "metadata": {},
     "output_type": "execute_result"
    }
   ],
   "source": [
    "result  = pd.crosstab(y_val_det,\n",
    "            y_valid,\n",
    "            margins = True)\n",
    "\n",
    "result"
   ]
  },
  {
   "cell_type": "markdown",
   "id": "cd92ddbd",
   "metadata": {},
   "source": [
    "### Best Model on Testing Data"
   ]
  },
  {
   "cell_type": "code",
   "execution_count": 112,
   "id": "6b606022",
   "metadata": {},
   "outputs": [
    {
     "data": {
      "text/plain": [
       "array([0., 0., 1., ..., 0., 0., 1.])"
      ]
     },
     "execution_count": 112,
     "metadata": {},
     "output_type": "execute_result"
    }
   ],
   "source": [
    "y_test_det = rf_best_rus.predict(X_test)\n",
    "y_test_det"
   ]
  },
  {
   "cell_type": "code",
   "execution_count": 113,
   "id": "42529628",
   "metadata": {},
   "outputs": [
    {
     "name": "stdout",
     "output_type": "stream",
     "text": [
      "ROC  : 0.9999342537804076\n"
     ]
    }
   ],
   "source": [
    "roc = roc_auc_score(y_test, y_test_det)\n",
    "\n",
    "print('ROC  :', roc)"
   ]
  },
  {
   "cell_type": "code",
   "execution_count": 114,
   "id": "c3c331fb",
   "metadata": {},
   "outputs": [
    {
     "data": {
      "text/html": [
       "<div>\n",
       "<style scoped>\n",
       "    .dataframe tbody tr th:only-of-type {\n",
       "        vertical-align: middle;\n",
       "    }\n",
       "\n",
       "    .dataframe tbody tr th {\n",
       "        vertical-align: top;\n",
       "    }\n",
       "\n",
       "    .dataframe thead th {\n",
       "        text-align: right;\n",
       "    }\n",
       "</style>\n",
       "<table border=\"1\" class=\"dataframe\">\n",
       "  <thead>\n",
       "    <tr style=\"text-align: right;\">\n",
       "      <th>fraud</th>\n",
       "      <th>0.0</th>\n",
       "      <th>1.0</th>\n",
       "      <th>All</th>\n",
       "    </tr>\n",
       "    <tr>\n",
       "      <th>row_0</th>\n",
       "      <th></th>\n",
       "      <th></th>\n",
       "      <th></th>\n",
       "    </tr>\n",
       "  </thead>\n",
       "  <tbody>\n",
       "    <tr>\n",
       "      <th>0.0</th>\n",
       "      <td>182496</td>\n",
       "      <td>0</td>\n",
       "      <td>182496</td>\n",
       "    </tr>\n",
       "    <tr>\n",
       "      <th>1.0</th>\n",
       "      <td>24</td>\n",
       "      <td>17480</td>\n",
       "      <td>17504</td>\n",
       "    </tr>\n",
       "    <tr>\n",
       "      <th>All</th>\n",
       "      <td>182520</td>\n",
       "      <td>17480</td>\n",
       "      <td>200000</td>\n",
       "    </tr>\n",
       "  </tbody>\n",
       "</table>\n",
       "</div>"
      ],
      "text/plain": [
       "fraud     0.0    1.0     All\n",
       "row_0                       \n",
       "0.0    182496      0  182496\n",
       "1.0        24  17480   17504\n",
       "All    182520  17480  200000"
      ]
     },
     "execution_count": 114,
     "metadata": {},
     "output_type": "execute_result"
    }
   ],
   "source": [
    "result  = pd.crosstab(y_test_det,\n",
    "            y_test,\n",
    "            margins = True)\n",
    "\n",
    "result"
   ]
  }
 ],
 "metadata": {
  "kernelspec": {
   "display_name": "Python 3 (ipykernel)",
   "language": "python",
   "name": "python3"
  },
  "language_info": {
   "codemirror_mode": {
    "name": "ipython",
    "version": 3
   },
   "file_extension": ".py",
   "mimetype": "text/x-python",
   "name": "python",
   "nbconvert_exporter": "python",
   "pygments_lexer": "ipython3",
   "version": "3.10.13"
  }
 },
 "nbformat": 4,
 "nbformat_minor": 5
}
